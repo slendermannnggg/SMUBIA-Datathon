{
 "cells": [
  {
   "cell_type": "markdown",
   "id": "67e4ed83",
   "metadata": {},
   "source": [
    "#### Import relevant libraries"
   ]
  },
  {
   "cell_type": "code",
   "execution_count": 1,
   "id": "1a9defc8-bda9-40b5-bc46-88be13e6ce71",
   "metadata": {
    "scrolled": true
   },
   "outputs": [
    {
     "name": "stderr",
     "output_type": "stream",
     "text": [
      "[nltk_data] Downloading package stopwords to\n",
      "[nltk_data]     C:\\Users\\ASUSROG\\AppData\\Roaming\\nltk_data...\n",
      "[nltk_data]   Package stopwords is already up-to-date!\n",
      "[nltk_data] Downloading package punkt to\n",
      "[nltk_data]     C:\\Users\\ASUSROG\\AppData\\Roaming\\nltk_data...\n",
      "[nltk_data]   Package punkt is already up-to-date!\n",
      "[nltk_data] Downloading package wordnet to\n",
      "[nltk_data]     C:\\Users\\ASUSROG\\AppData\\Roaming\\nltk_data...\n",
      "[nltk_data] Downloading package vader_lexicon to\n",
      "[nltk_data]     C:\\Users\\ASUSROG\\AppData\\Roaming\\nltk_data...\n"
     ]
    }
   ],
   "source": [
    "import pandas as pd\n",
    "import numpy as np\n",
    "import spacy\n",
    "import networkx as nx\n",
    "from transformers import AutoModelForTokenClassification, AutoTokenizer, pipeline, AutoModelForSequenceClassification\n",
    "import torch\n",
    "import time\n",
    "import re\n",
    "import string as st\n",
    "\n",
    "import gensim\n",
    "from gensim import corpora\n",
    "\n",
    "from sklearn.feature_extraction.text import CountVectorizer\n",
    "from sklearn.decomposition import LatentDirichletAllocation\n",
    "from sklearn.feature_extraction.text import TfidfVectorizer\n",
    "from sklearn.preprocessing import OneHotEncoder\n",
    "\n",
    "import pycountry\n",
    "from geopy.geocoders import Nominatim\n",
    "\n",
    "import matplotlib.pyplot as plt\n",
    "\n",
    "import nltk\n",
    "from nltk.stem import PorterStemmer\n",
    "from nltk.tokenize import word_tokenize\n",
    "from nltk.corpus import stopwords\n",
    "from nltk.util import ngrams\n",
    "from nltk.stem import WordNetLemmatizer\n",
    "from nltk.sentiment.vader import SentimentIntensityAnalyzer\n",
    "\n",
    "nltk.download('stopwords')\n",
    "nltk.download('punkt')\n",
    "nltk.download('wordnet')\n",
    "nltk.download('vader_lexicon')\n",
    "\n",
    "lemmatizer = WordNetLemmatizer()\n",
    "sent = SentimentIntensityAnalyzer() "
   ]
  },
  {
   "cell_type": "markdown",
   "id": "7a643f44",
   "metadata": {},
   "source": [
    "### Load the datasets"
   ]
  },
  {
   "cell_type": "code",
   "execution_count": 59,
   "id": "6f852cf5",
   "metadata": {},
   "outputs": [
    {
     "data": {
      "text/plain": [
       "0    Starbucks violated federal labor law when it i...\n",
       "1    The first suspect to plead guilty in Singapore...\n",
       "2    Meta has been fined a record-breaking €1.2 bil...\n",
       "3    SINGAPORE: A 45-year-old man linked to Singapo...\n",
       "4    The Department of Education imposed a record $...\n",
       "Name: Text, dtype: object"
      ]
     },
     "execution_count": 59,
     "metadata": {},
     "output_type": "execute_result"
    }
   ],
   "source": [
    "# Load the dataset\n",
    "df_news = pd.read_csv(r\"C:\\Users\\ASUSROG\\Downloads\\news_excerpts_parsed.csv\")\n",
    "df_wiki = pd.read_csv(r\"C:\\Users\\ASUSROG\\Downloads\\wikileaks_parsed.csv\")\n",
    "\n",
    "df_wiki = df_wiki['Text']\n",
    "df_news = df_news['Text']\n",
    "df.head()"
   ]
  },
  {
   "cell_type": "markdown",
   "id": "70aebbba",
   "metadata": {},
   "source": [
    "### Remove any empty rows"
   ]
  },
  {
   "cell_type": "code",
   "execution_count": 60,
   "id": "066c5b72",
   "metadata": {},
   "outputs": [],
   "source": [
    "texts = df.dropna().tolist()\n",
    "texts_wiki = df1.dropna().tolist()"
   ]
  },
  {
   "cell_type": "code",
   "execution_count": 4,
   "id": "6ccd1fca",
   "metadata": {},
   "outputs": [
    {
     "name": "stdout",
     "output_type": "stream",
     "text": [
      "['Starbucks violated federal labor law when it increased wages and offered new perks and benefits only to non-union employees, a National Labor Relations Board judge found Thursday.\\n\\nThe decision is the latest in a series of NLRB rulings finding that Starbucks has violated labor law in its efforts to stop unions from forming in its coffee shops.\\n\\n“The issue at the heart of this case is whether, under current Board law, [Starbucks] was entitled to explicitly reward employees,” for not participating in union activity, “while falsely telling its workers that the federal labor law forced it to take this action,” wrote administrative law judge Mara-Louise Anzalone. “It was not.”', \"The first suspect to plead guilty in Singapore's largest money laundering case was convicted and sentenced to 13 months' jail in a district court on Tuesday (Apr 2).\\n\\nSu Wenqiang, 32, admitted to 11 charges of money laundering, possessing proceeds from illegal remote gambling offences and lying to get work passes for himself and his wife.\\n\\nMore than S$3 billion (US$2.2 billion) in assets have been seized or frozen in relation to the case. This likely makes it one of the largest money laundering operations in the world.\\n\\nSu was among 10 suspects arrested in simultaneous police raids last August. The Cambodian national, whose passport states that he is from Fujian, was nabbed in a Good Class Bungalow along Lewis Road in Bukit Timah.\"]\n"
     ]
    }
   ],
   "source": [
    "print(texts[:2])"
   ]
  },
  {
   "cell_type": "markdown",
   "id": "9d212957",
   "metadata": {},
   "source": [
    "### Throughout the code, to minimise scrolling, we will only be using subsets of the dataset"
   ]
  },
  {
   "cell_type": "markdown",
   "id": "7e635406",
   "metadata": {},
   "source": [
    "# Basic Named-Entity Recognition (NER) using Spacy and Visualisation using NetworkX"
   ]
  },
  {
   "cell_type": "code",
   "execution_count": 61,
   "id": "99fad5ad",
   "metadata": {},
   "outputs": [
    {
     "name": "stdout",
     "output_type": "stream",
     "text": [
      "                           Entity  Type\n",
      "0  National Labor Relations Board   ORG\n",
      "1                        Thursday  DATE\n",
      "2                            NLRB   ORG\n",
      "3                       Starbucks   ORG\n",
      "4                           Board   ORG\n",
      "             Entity      Type\n",
      "0  Pristina Airport       FAC\n",
      "1          Vendor 1    PERSON\n",
      "2               Two  CARDINAL\n",
      "3    at least three  CARDINAL\n",
      "4            Kosovo       GPE\n"
     ]
    }
   ],
   "source": [
    "# Load spaCy model\n",
    "nlp = spacy.load(\"en_core_web_sm\")\n",
    "\n",
    "# Extract named entities\n",
    "entities = []\n",
    "for text in texts:\n",
    "    doc = nlp(text)\n",
    "    for ent in doc.ents:\n",
    "        entities.append((ent.text, ent.label_))\n",
    "\n",
    "# Convert to DataFrame for analysis\n",
    "entities_df = pd.DataFrame(entities, columns=[\"Entity\", \"Type\"])\n",
    "print(entities_df.head())\n",
    "\n",
    "\n",
    "entities_wiki = []\n",
    "for text in texts_wiki:\n",
    "    doc = nlp(text)\n",
    "    for ent in doc.ents:\n",
    "        entities_wiki.append((ent.text, ent.label_))\n",
    "\n",
    "entities_wiki_df = pd.DataFrame(entities_wiki, columns=[\"Entity\", \"Type\"])\n",
    "print(entities_wiki_df.head())   "
   ]
  },
  {
   "cell_type": "code",
   "execution_count": 6,
   "id": "37f8c196",
   "metadata": {
    "scrolled": false
   },
   "outputs": [
    {
     "name": "stdout",
     "output_type": "stream",
     "text": [
      "     Entity1 Relation            Entity2\n",
      "0   violated    nsubj          Starbucks\n",
      "1   violated     dobj  federal labor law\n",
      "2  increased    nsubj                 it\n",
      "3  increased     dobj              wages\n",
      "4    offered     dobj          new perks\n"
     ]
    },
    {
     "data": {
      "image/png": "[encoded data removed]",
      "text/plain": [
       "<Figure size 1000x500 with 1 Axes>"
      ]
     },
     "metadata": {},
     "output_type": "display_data"
    }
   ],
   "source": [
    "def get_noun_phrases(doc):\n",
    "    noun_phrases = {chunk.root: chunk.text for chunk in doc.noun_chunks}  # Mapping root words to full phrases\n",
    "    return noun_phrases\n",
    "\n",
    "# Function to merge proper nouns joined by \"and\"\n",
    "def merge_proper_nouns(doc):\n",
    "    tokens = list(doc)\n",
    "    merged_tokens = []\n",
    "    i = 0\n",
    "\n",
    "    while i < len(tokens):\n",
    "        token = tokens[i]\n",
    "\n",
    "        # If the token is a proper noun and followed by \"and\" + another proper noun\n",
    "        if token.pos_ == \"PROPN\" and i + 2 < len(tokens) and tokens[i + 1].text.lower() == \"and\" and tokens[i + 2].pos_ == \"PROPN\":\n",
    "            merged_entity = f\"{token.text} and {tokens[i + 2].text}\"\n",
    "            merged_tokens.append(merged_entity)\n",
    "            i += 3  # Skip the next two tokens (\"and\" and the second proper noun)\n",
    "        else:\n",
    "            merged_tokens.append(token.text)\n",
    "            i += 1\n",
    "\n",
    "    return merged_tokens\n",
    "\n",
    "# List to store extracted relationships\n",
    "relations = []\n",
    "\n",
    "# Process each text\n",
    "for text in texts:\n",
    "    doc = nlp(text)\n",
    "\n",
    "    # Get noun phrases (e.g., \"federal law\" instead of just \"law\")\n",
    "    noun_phrases = get_noun_phrases(doc)\n",
    "\n",
    "    # Merge proper nouns with \"and\"\n",
    "    merged_tokens = merge_proper_nouns(doc)\n",
    "\n",
    "    for token in doc:\n",
    "        # Identify subject-object pairs (Who did what to whom?)\n",
    "        if token.dep_ in (\"nsubj\", \"dobj\"):  # Subject-Object dependency\n",
    "            head = token.head.text  # The main verb (action word)\n",
    "            entity = noun_phrases.get(token, token.text)  # Use full noun phrase if available\n",
    "\n",
    "            # Replace entity if it appears in the merged list\n",
    "            if entity in merged_tokens:\n",
    "                entity = merged_tokens[merged_tokens.index(entity)]\n",
    "\n",
    "            relation = token.dep_  # Relationship type (nsubj/dobj)\n",
    "            relations.append((head, relation, entity))\n",
    "\n",
    "# Convert extracted relationships to a DataFrame\n",
    "relations_df = pd.DataFrame(relations, columns=[\"Entity1\", \"Relation\", \"Entity2\"])\n",
    "\n",
    "# Display results\n",
    "print(relations_df.head())\n",
    "\n",
    "# Create a directed graph\n",
    "G = nx.DiGraph()\n",
    "\n",
    "relations = relations[:10]\n",
    "\n",
    "# Add edges for each relationship\n",
    "for entity1, relation, entity2 in relations:\n",
    "    G.add_edge(entity1, entity2, label=relation)\n",
    "\n",
    "# Draw the graph\n",
    "plt.figure(figsize=(10, 5))\n",
    "pos = nx.spring_layout(G, k=0.5, seed=42)  # Position nodes using a layout\n",
    "nx.draw(G, pos, with_labels=True, node_color=\"lightblue\", edge_color=\"gray\", node_size=3000, font_size=10, width=2)\n",
    "\n",
    "# Add labels to edges\n",
    "edge_labels = {(e1, e2): rel for e1, rel, e2 in relations}\n",
    "nx.draw_networkx_edge_labels(G, pos, edge_labels=edge_labels)\n",
    "\n",
    "# Increase arrow size for visibility\n",
    "nx.draw_networkx_edges(G, pos, width=2, edge_color=\"gray\", arrowsize=20)\n",
    "\n",
    "plt.show()"
   ]
  },
  {
   "cell_type": "code",
   "execution_count": 64,
   "id": "e6d3c67d",
   "metadata": {},
   "outputs": [
    {
     "name": "stdout",
     "output_type": "stream",
     "text": [
      "     Entity1 Relation                                       Entity2\n",
      "0       took    nsubj                              Pristina Airport\n",
      "1       took    nsubj          Possible administrative irregularity\n",
      "2  involving     dobj                                        Vendor\n",
      "3       took     dobj                                          part\n",
      "4         is    nsubj  Background Information\\n\\nThe Kosovo citizen\n"
     ]
    },
    {
     "data": {
      "image/png": "[encoded data removed]",
      "text/plain": [
       "<Figure size 1000x500 with 1 Axes>"
      ]
     },
     "metadata": {},
     "output_type": "display_data"
    }
   ],
   "source": [
    "def get_noun_phrases(doc):\n",
    "    noun_phrases = {chunk.root: chunk.text for chunk in doc.noun_chunks}  # Mapping root words to full phrases\n",
    "    return noun_phrases\n",
    "\n",
    "# Function to merge proper nouns joined by \"and\"\n",
    "def merge_proper_nouns(doc):\n",
    "    tokens = list(doc)\n",
    "    merged_tokens = []\n",
    "    i = 0\n",
    "\n",
    "    while i < len(tokens):\n",
    "        token = tokens[i]\n",
    "\n",
    "        # If the token is a proper noun and followed by \"and\" + another proper noun\n",
    "        if token.pos_ == \"PROPN\" and i + 2 < len(tokens) and tokens[i + 1].text.lower() == \"and\" and tokens[i + 2].pos_ == \"PROPN\":\n",
    "            merged_entity = f\"{token.text} and {tokens[i + 2].text}\"\n",
    "            merged_tokens.append(merged_entity)\n",
    "            i += 3  # Skip the next two tokens (\"and\" and the second proper noun)\n",
    "        else:\n",
    "            merged_tokens.append(token.text)\n",
    "            i += 1\n",
    "\n",
    "    return merged_tokens\n",
    "\n",
    "# List to store extracted relationships\n",
    "relations_wiki = []\n",
    "\n",
    "# Process each text\n",
    "for text in texts_wiki:\n",
    "    doc = nlp(text)\n",
    "\n",
    "    # Get noun phrases (e.g., \"federal law\" instead of just \"law\")\n",
    "    noun_phrases = get_noun_phrases(doc)\n",
    "\n",
    "    # Merge proper nouns with \"and\"\n",
    "    merged_tokens = merge_proper_nouns(doc)\n",
    "\n",
    "    for token in doc:\n",
    "        # Identify subject-object pairs (Who did what to whom?)\n",
    "        if token.dep_ in (\"nsubj\", \"dobj\"):  # Subject-Object dependency\n",
    "            head = token.head.text  # The main verb (action word)\n",
    "            entity = noun_phrases.get(token, token.text)  # Use full noun phrase if available\n",
    "\n",
    "            # Replace entity if it appears in the merged list\n",
    "            if entity in merged_tokens:\n",
    "                entity = merged_tokens[merged_tokens.index(entity)]\n",
    "\n",
    "            relation = token.dep_  # Relationship type (nsubj/dobj)\n",
    "            relations_wiki.append((head, relation, entity))\n",
    "\n",
    "# Convert extracted relationships to a DataFrame\n",
    "relations_wiki_df = pd.DataFrame(relations_wiki, columns=[\"Entity1\", \"Relation\", \"Entity2\"])\n",
    "\n",
    "# Display results\n",
    "print(relations_wiki_df.head())\n",
    "\n",
    "# Create a directed graph\n",
    "G1 = nx.DiGraph()\n",
    "\n",
    "relations_wiki = relations_wiki[:10]\n",
    "\n",
    "# Add edges for each relationship\n",
    "for entity1, relation, entity2 in relations_wiki:\n",
    "    G1.add_edge(entity1, entity2, label=relation)\n",
    "\n",
    "# Draw the graph\n",
    "plt.figure(figsize=(10, 5))\n",
    "pos = nx.spring_layout(G1, k=0.5, seed=42)  # Position nodes using a layout\n",
    "nx.draw(G1, pos, with_labels=True, node_color=\"lightblue\", edge_color=\"gray\", node_size=3000, font_size=10, width=2)\n",
    "\n",
    "# Add labels to edges\n",
    "edge_labels = {(e1, e2): rel for e1, rel, e2 in relations_wiki}\n",
    "nx.draw_networkx_edge_labels(G1, pos, edge_labels=edge_labels)\n",
    "\n",
    "# Increase arrow size for visibility\n",
    "nx.draw_networkx_edges(G1, pos, width=2, edge_color=\"gray\", arrowsize=20)\n",
    "\n",
    "plt.show()"
   ]
  },
  {
   "cell_type": "markdown",
   "id": "b99a85a4",
   "metadata": {},
   "source": [
    "### Relations Dataframe for example"
   ]
  },
  {
   "cell_type": "code",
   "execution_count": 7,
   "id": "ee387767",
   "metadata": {
    "scrolled": false
   },
   "outputs": [
    {
     "data": {
      "text/html": [
       "<div>\n",
       "<style scoped>\n",
       "    .dataframe tbody tr th:only-of-type {\n",
       "        vertical-align: middle;\n",
       "    }\n",
       "\n",
       "    .dataframe tbody tr th {\n",
       "        vertical-align: top;\n",
       "    }\n",
       "\n",
       "    .dataframe thead th {\n",
       "        text-align: right;\n",
       "    }\n",
       "</style>\n",
       "<table border=\"1\" class=\"dataframe\">\n",
       "  <thead>\n",
       "    <tr style=\"text-align: right;\">\n",
       "      <th></th>\n",
       "      <th>Entity1</th>\n",
       "      <th>Relation</th>\n",
       "      <th>Entity2</th>\n",
       "    </tr>\n",
       "  </thead>\n",
       "  <tbody>\n",
       "    <tr>\n",
       "      <th>0</th>\n",
       "      <td>violated</td>\n",
       "      <td>nsubj</td>\n",
       "      <td>Starbucks</td>\n",
       "    </tr>\n",
       "    <tr>\n",
       "      <th>1</th>\n",
       "      <td>violated</td>\n",
       "      <td>dobj</td>\n",
       "      <td>federal labor law</td>\n",
       "    </tr>\n",
       "    <tr>\n",
       "      <th>2</th>\n",
       "      <td>increased</td>\n",
       "      <td>nsubj</td>\n",
       "      <td>it</td>\n",
       "    </tr>\n",
       "    <tr>\n",
       "      <th>3</th>\n",
       "      <td>increased</td>\n",
       "      <td>dobj</td>\n",
       "      <td>wages</td>\n",
       "    </tr>\n",
       "    <tr>\n",
       "      <th>4</th>\n",
       "      <td>offered</td>\n",
       "      <td>dobj</td>\n",
       "      <td>new perks</td>\n",
       "    </tr>\n",
       "    <tr>\n",
       "      <th>5</th>\n",
       "      <td>found</td>\n",
       "      <td>nsubj</td>\n",
       "      <td>a National Labor Relations Board judge</td>\n",
       "    </tr>\n",
       "    <tr>\n",
       "      <th>6</th>\n",
       "      <td>is</td>\n",
       "      <td>nsubj</td>\n",
       "      <td>The decision</td>\n",
       "    </tr>\n",
       "    <tr>\n",
       "      <th>7</th>\n",
       "      <td>violated</td>\n",
       "      <td>nsubj</td>\n",
       "      <td>Starbucks</td>\n",
       "    </tr>\n",
       "    <tr>\n",
       "      <th>8</th>\n",
       "      <td>violated</td>\n",
       "      <td>dobj</td>\n",
       "      <td>labor law</td>\n",
       "    </tr>\n",
       "    <tr>\n",
       "      <th>9</th>\n",
       "      <td>stop</td>\n",
       "      <td>dobj</td>\n",
       "      <td>unions</td>\n",
       "    </tr>\n",
       "    <tr>\n",
       "      <th>10</th>\n",
       "      <td>is</td>\n",
       "      <td>nsubj</td>\n",
       "      <td>The issue</td>\n",
       "    </tr>\n",
       "    <tr>\n",
       "      <th>11</th>\n",
       "      <td>reward</td>\n",
       "      <td>dobj</td>\n",
       "      <td>employees</td>\n",
       "    </tr>\n",
       "    <tr>\n",
       "      <th>12</th>\n",
       "      <td>telling</td>\n",
       "      <td>dobj</td>\n",
       "      <td>its workers</td>\n",
       "    </tr>\n",
       "    <tr>\n",
       "      <th>13</th>\n",
       "      <td>forced</td>\n",
       "      <td>nsubj</td>\n",
       "      <td>the federal labor law</td>\n",
       "    </tr>\n",
       "    <tr>\n",
       "      <th>14</th>\n",
       "      <td>forced</td>\n",
       "      <td>dobj</td>\n",
       "      <td>it</td>\n",
       "    </tr>\n",
       "    <tr>\n",
       "      <th>15</th>\n",
       "      <td>take</td>\n",
       "      <td>dobj</td>\n",
       "      <td>this action</td>\n",
       "    </tr>\n",
       "    <tr>\n",
       "      <th>16</th>\n",
       "      <td>wrote</td>\n",
       "      <td>nsubj</td>\n",
       "      <td>administrative law judge Mara-Louise Anzalone</td>\n",
       "    </tr>\n",
       "    <tr>\n",
       "      <th>17</th>\n",
       "      <td>was</td>\n",
       "      <td>nsubj</td>\n",
       "      <td>It</td>\n",
       "    </tr>\n",
       "    <tr>\n",
       "      <th>18</th>\n",
       "      <td>admitted</td>\n",
       "      <td>nsubj</td>\n",
       "      <td>Su Wenqiang</td>\n",
       "    </tr>\n",
       "    <tr>\n",
       "      <th>19</th>\n",
       "      <td>possessing</td>\n",
       "      <td>dobj</td>\n",
       "      <td>proceeds</td>\n",
       "    </tr>\n",
       "  </tbody>\n",
       "</table>\n",
       "</div>"
      ],
      "text/plain": [
       "       Entity1 Relation                                        Entity2\n",
       "0     violated    nsubj                                      Starbucks\n",
       "1     violated     dobj                              federal labor law\n",
       "2    increased    nsubj                                             it\n",
       "3    increased     dobj                                          wages\n",
       "4      offered     dobj                                      new perks\n",
       "5        found    nsubj         a National Labor Relations Board judge\n",
       "6           is    nsubj                                   The decision\n",
       "7     violated    nsubj                                      Starbucks\n",
       "8     violated     dobj                                      labor law\n",
       "9         stop     dobj                                         unions\n",
       "10          is    nsubj                                      The issue\n",
       "11      reward     dobj                                      employees\n",
       "12     telling     dobj                                    its workers\n",
       "13      forced    nsubj                          the federal labor law\n",
       "14      forced     dobj                                             it\n",
       "15        take     dobj                                    this action\n",
       "16       wrote    nsubj  administrative law judge Mara-Louise Anzalone\n",
       "17         was    nsubj                                             It\n",
       "18    admitted    nsubj                                    Su Wenqiang\n",
       "19  possessing     dobj                                       proceeds"
      ]
     },
     "execution_count": 7,
     "metadata": {},
     "output_type": "execute_result"
    }
   ],
   "source": [
    "relations_df[:20]"
   ]
  },
  {
   "cell_type": "markdown",
   "id": "1abfe4fc",
   "metadata": {},
   "source": [
    "## More comprehensive NER using Hugging Face pre-trained BERT model fine-tuned on the CoNLL-03 dataset"
   ]
  },
  {
   "cell_type": "markdown",
   "id": "2cf8eae4",
   "metadata": {},
   "source": [
    "### for simplicity, we will only be printing the results for the first row"
   ]
  },
  {
   "cell_type": "markdown",
   "id": "35830ab4",
   "metadata": {},
   "source": [
    "#### News"
   ]
  },
  {
   "cell_type": "code",
   "execution_count": 8,
   "id": "1b523a99",
   "metadata": {
    "scrolled": true
   },
   "outputs": [
    {
     "name": "stderr",
     "output_type": "stream",
     "text": [
      "Some weights of the model checkpoint at dbmdz/bert-large-cased-finetuned-conll03-english were not used when initializing BertForTokenClassification: ['bert.pooler.dense.bias', 'bert.pooler.dense.weight']\n",
      "- This IS expected if you are initializing BertForTokenClassification from the checkpoint of a model trained on another task or with another architecture (e.g. initializing a BertForSequenceClassification model from a BertForPreTraining model).\n",
      "- This IS NOT expected if you are initializing BertForTokenClassification from the checkpoint of a model that you expect to be exactly identical (initializing a BertForSequenceClassification model from a BertForSequenceClassification model).\n",
      "Device set to use cpu\n"
     ]
    },
    {
     "name": "stdout",
     "output_type": "stream",
     "text": [
      "\n",
      "Text: Starbucks violated federal labor law when it increased wages and offered new perks and benefits only to non-union employees, a National Labor Relations Board judge found Thursday.\n",
      "\n",
      "The decision is the latest in a series of NLRB rulings finding that Starbucks has violated labor law in its efforts to stop unions from forming in its coffee shops.\n",
      "\n",
      "“The issue at the heart of this case is whether, under current Board law, [Starbucks] was entitled to explicitly reward employees,” for not participating in union activity, “while falsely telling its workers that the federal labor law forced it to take this action,” wrote administrative law judge Mara-Louise Anzalone. “It was not.”\n",
      "Star - I-ORG (Score: 1.00)\n",
      "##bu - I-ORG (Score: 1.00)\n",
      "##cks - I-ORG (Score: 1.00)\n",
      "National - I-ORG (Score: 1.00)\n",
      "Labor - I-ORG (Score: 1.00)\n",
      "Relations - I-ORG (Score: 1.00)\n",
      "Board - I-ORG (Score: 1.00)\n",
      "NL - I-ORG (Score: 0.99)\n",
      "##RB - I-ORG (Score: 1.00)\n",
      "Star - I-ORG (Score: 1.00)\n",
      "##bu - I-ORG (Score: 1.00)\n",
      "##cks - I-ORG (Score: 1.00)\n",
      "Board - I-ORG (Score: 0.95)\n",
      "Star - I-ORG (Score: 1.00)\n",
      "##bu - I-ORG (Score: 1.00)\n",
      "##cks - I-ORG (Score: 1.00)\n",
      "Mara - I-PER (Score: 1.00)\n",
      "- - I-PER (Score: 0.97)\n",
      "Louise - I-PER (Score: 1.00)\n",
      "An - I-PER (Score: 1.00)\n",
      "##zal - I-PER (Score: 0.98)\n",
      "##one - I-PER (Score: 0.99)\n"
     ]
    }
   ],
   "source": [
    "# Load Hugging Face model for NER\n",
    "model_name = \"dbmdz/bert-large-cased-finetuned-conll03-english\"\n",
    "tokenizer = AutoTokenizer.from_pretrained(model_name)\n",
    "model = AutoModelForTokenClassification.from_pretrained(model_name)\n",
    "\n",
    "# Load NER pipeline\n",
    "ner_pipeline = pipeline(\"ner\", model=model, tokenizer=tokenizer)\n",
    "\n",
    "text123 = texts[:20]\n",
    "\n",
    "# Extract named entities\n",
    "for text in texts:\n",
    "    ner_results = ner_pipeline(text)\n",
    "    print(f\"\\nText: {text}\")\n",
    "    for entity in ner_results:\n",
    "        print(f\"{entity['word']} - {entity['entity']} (Score: {entity['score']:.2f})\")\n",
    "# Load Hugging Face model for NER\n",
    "model_name = \"dbmdz/bert-large-cased-finetuned-conll03-english\"\n",
    "tokenizer = AutoTokenizer.from_pretrained(model_name)\n",
    "model = AutoModelForTokenClassification.from_pretrained(model_name)\n",
    "\n",
    "# Load NER pipeline\n",
    "ner_pipeline = pipeline(\"ner\", model=model, tokenizer=tokenizer)    break"
   ]
  },
  {
   "cell_type": "markdown",
   "id": "e3f83777",
   "metadata": {},
   "source": [
    "#### wiki"
   ]
  },
  {
   "cell_type": "code",
   "execution_count": 67,
   "id": "80b32efa",
   "metadata": {},
   "outputs": [
    {
     "name": "stderr",
     "output_type": "stream",
     "text": [
      "Some weights of the model checkpoint at dbmdz/bert-large-cased-finetuned-conll03-english were not used when initializing BertForTokenClassification: ['bert.pooler.dense.bias', 'bert.pooler.dense.weight']\n",
      "- This IS expected if you are initializing BertForTokenClassification from the checkpoint of a model trained on another task or with another architecture (e.g. initializing a BertForSequenceClassification model from a BertForPreTraining model).\n",
      "- This IS NOT expected if you are initializing BertForTokenClassification from the checkpoint of a model that you expect to be exactly identical (initializing a BertForSequenceClassification model from a BertForSequenceClassification model).\n",
      "Device set to use cpu\n"
     ]
    },
    {
     "name": "stdout",
     "output_type": "stream",
     "text": [
      "\n",
      "Text: Pristina Airport – Possible administrative irregularity regarding tender procedures involving Vendor 1 and Vendor 2\n",
      "\n",
      "Allegation\n",
      "\n",
      "Two companies with the same owner took part at least three times in the same Airport tenders.\n",
      "\n",
      "Background Information\n",
      "\n",
      "The Kosovo citizen, Vendor 1 and Vendor 2 Representative, is the owner and Director of the Pristina-based Vendor 1 and also a 51% shareholder of the Pristina-Ljubljana-based company Vendor 2. Both companies have their residences at the same address in Pristina.\n",
      "\n",
      "Both Vendor 1 and Vendor 2 submitted three times in 2003 for the same tenders:\n",
      "\n",
      "Supply and Mounting of Sonic System in the Fire Station Building. Winner was Vendor 2 with €1,530 followed by Vendor 1 with €1,620. The third company, Vendor 3, did not provide a price offer.\n",
      "\n",
      "Cabling of Flat Display Information System (FIDS). Winner was Vendor 1 with €15,919 followed by Vendor 2 with €19,248.70. The other two competitors, Vendor 3 and Vendor 4, offered prices of Euro 19,702 and Euro 21,045.\n",
      "\n",
      "Purchase and fixing of Cramer Antenna. Winner was again Vendor 1 with €3,627.99 followed by Vendor 2 with €3,921. The other two competitors, Vendor 3 and Vendor 4, offered prices of €4,278 and €4,670.\n",
      "P - I-LOC (Score: 1.00)\n",
      "##rist - I-LOC (Score: 1.00)\n",
      "##ina - I-LOC (Score: 1.00)\n",
      "Airport - I-LOC (Score: 0.95)\n",
      "V - I-ORG (Score: 0.97)\n",
      "##end - I-ORG (Score: 0.85)\n",
      "##or - I-ORG (Score: 0.78)\n",
      "1 - I-ORG (Score: 0.70)\n",
      "V - I-ORG (Score: 0.96)\n",
      "##end - I-ORG (Score: 0.76)\n",
      "##or - I-ORG (Score: 0.75)\n",
      "2 - I-ORG (Score: 0.66)\n",
      "Airport - I-LOC (Score: 0.83)\n",
      "Kosovo - I-LOC (Score: 1.00)\n",
      "V - I-ORG (Score: 0.98)\n",
      "##end - I-ORG (Score: 0.96)\n",
      "##or - I-ORG (Score: 0.92)\n",
      "1 - I-ORG (Score: 0.87)\n",
      "V - I-ORG (Score: 0.98)\n",
      "##end - I-ORG (Score: 0.94)\n",
      "##or - I-ORG (Score: 0.77)\n",
      "2 - I-ORG (Score: 0.79)\n",
      "P - I-MISC (Score: 1.00)\n",
      "##rist - I-MISC (Score: 0.89)\n",
      "##ina - I-MISC (Score: 0.97)\n",
      "V - I-ORG (Score: 0.99)\n",
      "##end - I-ORG (Score: 0.98)\n",
      "##or - I-ORG (Score: 0.97)\n",
      "1 - I-ORG (Score: 0.94)\n",
      "P - I-MISC (Score: 1.00)\n",
      "##rist - I-MISC (Score: 0.73)\n",
      "##ina - I-MISC (Score: 0.74)\n",
      "Ljubljana - I-MISC (Score: 0.95)\n",
      "V - I-ORG (Score: 1.00)\n",
      "##end - I-ORG (Score: 0.99)\n",
      "##or - I-ORG (Score: 0.99)\n",
      "2 - I-ORG (Score: 0.98)\n",
      "P - I-LOC (Score: 1.00)\n",
      "##rist - I-LOC (Score: 1.00)\n",
      "##ina - I-LOC (Score: 1.00)\n",
      "V - I-ORG (Score: 0.98)\n",
      "##end - I-ORG (Score: 0.91)\n",
      "##or - I-ORG (Score: 0.85)\n",
      "1 - I-ORG (Score: 0.82)\n",
      "V - I-ORG (Score: 0.99)\n",
      "##end - I-ORG (Score: 0.96)\n",
      "##or - I-ORG (Score: 0.94)\n",
      "2 - I-ORG (Score: 0.93)\n",
      "Sonic - I-ORG (Score: 0.49)\n",
      "System - I-ORG (Score: 0.43)\n",
      "Building - I-LOC (Score: 0.54)\n",
      "V - I-ORG (Score: 0.99)\n",
      "##end - I-ORG (Score: 0.97)\n",
      "##or - I-ORG (Score: 0.97)\n",
      "2 - I-ORG (Score: 0.94)\n",
      "V - I-ORG (Score: 0.99)\n",
      "##end - I-ORG (Score: 0.96)\n",
      "##or - I-ORG (Score: 0.94)\n",
      "1 - I-ORG (Score: 0.82)\n",
      "V - I-ORG (Score: 0.99)\n",
      "##end - I-ORG (Score: 0.97)\n",
      "##or - I-ORG (Score: 0.94)\n",
      "3 - I-ORG (Score: 0.96)\n",
      "Di - I-MISC (Score: 0.53)\n",
      "Information - I-ORG (Score: 0.49)\n",
      "System - I-MISC (Score: 0.35)\n",
      "F - I-ORG (Score: 0.84)\n",
      "##ID - I-ORG (Score: 0.43)\n",
      "V - I-ORG (Score: 0.99)\n",
      "##end - I-ORG (Score: 0.95)\n",
      "##or - I-ORG (Score: 0.92)\n",
      "1 - I-ORG (Score: 0.82)\n",
      "V - I-ORG (Score: 0.98)\n",
      "##end - I-ORG (Score: 0.90)\n",
      "##or - I-ORG (Score: 0.86)\n",
      "2 - I-ORG (Score: 0.77)\n",
      "V - I-ORG (Score: 0.99)\n",
      "##end - I-ORG (Score: 0.98)\n",
      "##or - I-ORG (Score: 0.97)\n",
      "3 - I-ORG (Score: 0.84)\n",
      "V - I-ORG (Score: 0.99)\n",
      "##end - I-ORG (Score: 0.95)\n",
      "##or - I-ORG (Score: 0.90)\n",
      "4 - I-ORG (Score: 0.93)\n",
      "C - I-ORG (Score: 0.83)\n",
      "##ram - I-ORG (Score: 0.95)\n",
      "##er - I-ORG (Score: 0.94)\n",
      "An - I-ORG (Score: 0.90)\n",
      "##ten - I-ORG (Score: 0.40)\n",
      "##na - I-ORG (Score: 0.87)\n",
      "V - I-ORG (Score: 0.98)\n",
      "##end - I-ORG (Score: 0.92)\n",
      "##or - I-ORG (Score: 0.87)\n",
      "1 - I-ORG (Score: 0.79)\n",
      "V - I-ORG (Score: 0.96)\n",
      "##end - I-ORG (Score: 0.85)\n",
      "##or - I-ORG (Score: 0.81)\n",
      "2 - I-ORG (Score: 0.61)\n",
      "V - I-ORG (Score: 0.99)\n",
      "##end - I-ORG (Score: 0.96)\n",
      "##or - I-ORG (Score: 0.93)\n",
      "3 - I-ORG (Score: 0.77)\n",
      "V - I-ORG (Score: 0.98)\n",
      "##end - I-ORG (Score: 0.87)\n",
      "##or - I-ORG (Score: 0.71)\n",
      "4 - I-ORG (Score: 0.89)\n"
     ]
    }
   ],
   "source": [
    "# Load Hugging Face model for NER\n",
    "model_name = \"dbmdz/bert-large-cased-finetuned-conll03-english\"\n",
    "tokenizer = AutoTokenizer.from_pretrained(model_name)\n",
    "model = AutoModelForTokenClassification.from_pretrained(model_name)\n",
    "\n",
    "# Load NER pipeline\n",
    "ner_pipeline = pipeline(\"ner\", model=model, tokenizer=tokenizer)\n",
    "\n",
    "text123_wiki = texts_wiki[:20]\n",
    "\n",
    "# Extract named entities\n",
    "for text in text123_wiki:\n",
    "    ner_results = ner_pipeline(text)\n",
    "    print(f\"\\nText: {text}\")\n",
    "    for entity in ner_results:\n",
    "        print(f\"{entity['word']} - {entity['entity']} (Score: {entity['score']:.2f})\")\n",
    "    break"
   ]
  },
  {
   "cell_type": "markdown",
   "id": "21bcac10",
   "metadata": {},
   "source": [
    "## Topic/Summary word extraction"
   ]
  },
  {
   "cell_type": "markdown",
   "id": "e4f868f2",
   "metadata": {},
   "source": [
    "### This extracts countries from the list of Entities extracted; if there are no country names present, it calculates an average vector for all Entity words and parses spaCy dictionary for the closest word "
   ]
  },
  {
   "cell_type": "markdown",
   "id": "30bb0ea9",
   "metadata": {},
   "source": [
    "#### news"
   ]
  },
  {
   "cell_type": "code",
   "execution_count": 9,
   "id": "3162d0c9",
   "metadata": {
    "scrolled": true
   },
   "outputs": [
    {
     "name": "stderr",
     "output_type": "stream",
     "text": [
      "Some weights of the model checkpoint at dbmdz/bert-large-cased-finetuned-conll03-english were not used when initializing BertForTokenClassification: ['bert.pooler.dense.bias', 'bert.pooler.dense.weight']\n",
      "- This IS expected if you are initializing BertForTokenClassification from the checkpoint of a model trained on another task or with another architecture (e.g. initializing a BertForSequenceClassification model from a BertForPreTraining model).\n",
      "- This IS NOT expected if you are initializing BertForTokenClassification from the checkpoint of a model that you expect to be exactly identical (initializing a BertForSequenceClassification model from a BertForSequenceClassification model).\n",
      "Device set to use cpu\n"
     ]
    },
    {
     "name": "stdout",
     "output_type": "stream",
     "text": [
      "\n",
      "Extracted Entities (After Removing Hashes):\n",
      "Text 1: ['starbucks', 'national labor relations board', 'nlrb', 'mara - louise anzalone', 'board']\n",
      "Text 2: ['singapore', 'su', 'us', 's', 'su wenqiang', 'lewis road', 'bukit timah', 'cambodian', 'fujian', 'class b']\n",
      "Text 3: ['gdpr', 'general data protection regulation', 'irish data protection commission', 'european union', 'united states', 'eu', 'european data protection board', 'meta', 'facebook', 'fb', 'europe']\n",
      "Text 4: ['singapore', 's', 'zhang', 'zhang ruijin']\n",
      "Text 5: ['liberty university', 'clery act', 'christian', 'department of education', 'virginia']\n",
      "Text 6: [\"austrian people ' s party\", 'oebag', 'austrian', 'sebastian kurz', 'kurz', 'vienna']\n",
      "Text 7: ['liu qing', 'jean liu', 'didi', 'cyberspace administration of china', 'didi global', 'cac', 'cheng wei', 'china', 'english']\n",
      "Text 8: ['indrit k', 'majorca', 'black eagle', 'alfredo h.', 'brussels criminal court', 'limburg', 'italian', 'albanian']\n",
      "Text 9: ['dominik feri', 'cz', 'feri', 'top 09', 'chamber of deputies', '3 district court', 'prague', 'metropolitan court']\n",
      "Text 10: ['danish', 'glostrup', 'united arab emirates', 'treasury', 'denmark', 'copenhagen', 'dubai', 'shah', 'sanjay shah']\n",
      "Text 11: ['dmitry gladyshev', 'w', 'moscow', 'code of criminal procedure', 'brittney griner', 'russian', 'griner', 'alexander korablyov', 'maria blagovolina']\n",
      "Text 12: ['scott pruitt', 'government accountability office', 'congress', 'antideficiency act', 'julie matta', 'environmental protection agency', 'epa', 'gao', 'democrats']\n",
      "Text 13: ['tartu', 'county court', 'estonia', 'aro siinmaa', 'siinmaa', 'estonian', 'lithuanian', 'aurimas skirgaila']\n",
      "Text 14: ['sweden', 'teemu juhani kirves', 'helsinki', 'helsinki district court', 'finland']\n",
      "Text 15: ['rauðagerði', 'rau', 'armando beqirai', 'beqirai', 'angjelin sterkaj', 'icelandic', 'albanian', 'court', 'sterkaj', 'reykjavík']\n",
      "Text 16: ['renault - nissan', 'renault', 'suhail bahwan automobiles', 'carlos ghosn', 'sba', 'french', 'omani', 'paris', 'nanterre', 'mitsubishi motors', 'greg kelly', 'afp', 'nissan', 'japan', 'lebanon', 'ghosn']\n",
      "Text 17: ['en', 'seagate', 'washington', 'us', 'department of commerce', 'huawei', 'china', 'seagate technology', 'stx']\n",
      "Text 18: ['malaysian', 'kamarul zaman mamat', 'sessions court', 'whatsapp', 'telegram', 'skudai', 'johor', 'ba', 'nurul shahira a', 'shi']\n",
      "Text 19: ['kentucky', 'southeast', 'maryland', 'us department of labor', 'indiana', 'ohio', 'louisville', 'mcdonald ’ s', 'labor department', 'wage and hour division']\n",
      "Text 20: ['adel khaydarshin', 'khaydarshin', 'chinese', 'lgbtq', 'vladimir putin', 'russian', 'russia', 'cnn', 'chinese lgbt', 'haoyang xu']\n",
      "\n",
      "Final Topic Per Text (Multiple Countries Included If Found):\n",
      "Text 1: Board\n",
      "Text 2: singapore\n",
      "Text 3: united\n",
      "Text 4: singapore\n",
      "Text 5: Virginia\n",
      "Text 6: Austrian\n",
      "Text 7: china\n",
      "Text 8: Albanian\n",
      "Text 9: prague\n",
      "Text 10: denmark\n",
      "Text 11: prague\n",
      "Text 12: congress\n",
      "Text 13: estonia\n",
      "Text 14: finland, sweden\n",
      "Text 15: Albanian\n",
      "Text 16: japan, lebanon\n",
      "Text 17: china\n",
      "Text 18: Sha\n",
      "Text 19: Virginia\n",
      "Text 20: russia\n"
     ]
    }
   ],
   "source": [
    "# Load Hugging Face model for NER\n",
    "model_name = \"dbmdz/bert-large-cased-finetuned-conll03-english\"\n",
    "tokenizer = AutoTokenizer.from_pretrained(model_name)\n",
    "model = AutoModelForTokenClassification.from_pretrained(model_name)\n",
    "\n",
    "# Load NER pipeline\n",
    "ner_pipeline = pipeline(\"ner\", model=model, tokenizer=tokenizer, aggregation_strategy=\"simple\")\n",
    "\n",
    "# Load spaCy model with word vectors\n",
    "nlp = spacy.load(\"en_core_web_md\")  # Ensure model is installed\n",
    "\n",
    "# Load country list from pycountry\n",
    "country_list = {country.name.lower() for country in pycountry.countries}\n",
    "\n",
    "# Step 1: Extract Named Entities (Removing Subword Tokens)\n",
    "all_entities = []\n",
    "for text in text123:\n",
    "    ner_results = ner_pipeline(text)\n",
    "    \n",
    "    # Remove entities containing \"#\" (subword tokens)\n",
    "    entities = list(set(entity[\"word\"].lower() for entity in ner_results if \"#\" not in entity[\"word\"]))\n",
    "    \n",
    "    all_entities.append(entities)\n",
    "\n",
    "print(\"\\nExtracted Entities (After Removing Hashes):\")\n",
    "for i, entities in enumerate(all_entities):\n",
    "    print(f\"Text {i+1}: {entities}\")\n",
    "\n",
    "# Step 2: Identify Country Names If Available, Otherwise Use Word Embedding Method\n",
    "summary_words = []\n",
    "\n",
    "for i, entities in enumerate(all_entities):\n",
    "    if not entities:\n",
    "        summary_words.append(\"No Entities\")  # Handle empty cases\n",
    "        continue\n",
    "\n",
    "    # Use spaCy to detect geopolitical entities (GPE) in the text\n",
    "    doc = nlp(texts[i])\n",
    "    detected_countries = {ent.text.lower() for ent in doc.ents if ent.label_ == \"GPE\"}\n",
    "\n",
    "    # Cross-check with pycountry list\n",
    "    country_matches = detected_countries.intersection(country_list)\n",
    "\n",
    "    if country_matches:\n",
    "        # If multiple countries are found, join them with commas\n",
    "        summary_words.append(\", \".join(sorted(country_matches)))  # Sorted for consistency\n",
    "        continue\n",
    "\n",
    "    # If no country is found, use word embedding similarity\n",
    "    if len(entities) == 1:\n",
    "        summary_words.append(entities[0])  # If only one entity, return it directly\n",
    "        continue\n",
    "\n",
    "    # Compute the average vector of all entity words\n",
    "    entity_vectors = [nlp(entity).vector for entity in entities if nlp(entity).has_vector]\n",
    "\n",
    "    if not entity_vectors:  # If no valid word vectors exist\n",
    "        summary_words.append(entities[0])  # Fallback to first entity\n",
    "        continue\n",
    "\n",
    "    centroid_vector = np.mean(entity_vectors, axis=0)  # Compute average vector\n",
    "\n",
    "    # Find the closest real word in spaCy's vocabulary\n",
    "    closest_word = max(\n",
    "    [word for word in nlp.vocab if word.is_alpha],  # Only consider alphabetic words\n",
    "    key=lambda word: word.vector_norm and np.dot(word.vector, centroid_vector)\n",
    ")\n",
    "\n",
    "\n",
    "    summary_words.append(closest_word.text)\n",
    "\n",
    "# Step 3: Display Results\n",
    "print(\"\\nFinal Topic Per Text (Multiple Countries Included If Found):\")\n",
    "for i, summary in enumerate(summary_words):\n",
    "    print(f\"Text {i+1}: {summary}\")\n"
   ]
  },
  {
   "cell_type": "markdown",
   "id": "5c3cdcfe",
   "metadata": {},
   "source": [
    "#### wiki"
   ]
  },
  {
   "cell_type": "code",
   "execution_count": 69,
   "id": "f98b9935",
   "metadata": {},
   "outputs": [
    {
     "name": "stderr",
     "output_type": "stream",
     "text": [
      "Some weights of the model checkpoint at dbmdz/bert-large-cased-finetuned-conll03-english were not used when initializing BertForTokenClassification: ['bert.pooler.dense.bias', 'bert.pooler.dense.weight']\n",
      "- This IS expected if you are initializing BertForTokenClassification from the checkpoint of a model trained on another task or with another architecture (e.g. initializing a BertForSequenceClassification model from a BertForPreTraining model).\n",
      "- This IS NOT expected if you are initializing BertForTokenClassification from the checkpoint of a model that you expect to be exactly identical (initializing a BertForSequenceClassification model from a BertForSequenceClassification model).\n",
      "Device set to use cpu\n"
     ]
    },
    {
     "name": "stdout",
     "output_type": "stream",
     "text": [
      "\n",
      "Extracted Entities (After Removing Hashes):\n",
      "Text 1: ['vendor 1', 'cramer antenna', 'sonic system', 'pristina', 'airport', 'pristina airport', 'vendor 3', 'building', 'kosovo', 'vendor 2', 'ljubljana', 'system', 'fid', 'vendor 4', 'information', 'di']\n",
      "Text 2: ['prizren', 'itf', 'vendor 1', 'kosovo organised crime bureau', 'pristina', 'vendor 3', 'kocb', 'international', 'economic law', 'vendor 2', 'vendor 4', 'kosovo', 'unmik department of justice']\n",
      "Text 3: ['doti', 'cargo apron']\n",
      "Text 4: ['doti', 'cargo apron extension', 'office of the legal adviser', 'un']\n",
      "Text 5: ['itf']\n",
      "Text 6: ['unmik finance', 'article', 'evaluation company', 'apron', 'instruction', 'pristina airport', 'kosovo', 'car']\n",
      "Text 7: ['unmik', 'finance', 'article', 'cargo apron extension', 'kosovo consolidated', 'instruction', 'fund', 'doti', '2']\n",
      "Text 8: ['unmik', 'ii', 'kta', 'department of transport and infrastructure', 'icao', 'doti', 'peap', 'pristina airport', 'transport sector of', 'civil administration pi', 'consulting company', 'kfor', 'atcs', 'united nations', 'iv', 'airport', 'pristina international airport', 'unmik directorate of infrastructure affairs', 'kosovo trust agency', 'air traffic control services']\n",
      "Text 9: ['unmik', 'itf', 'no', 'pi', 'kosovo force', 'yugoslavian', 'public enterprise airport p', 'resolution', 'iv', 'regulation no', 'pristina international airport', 'peap', 'united nations security council', 'kfor', 'pristina airport', 'kosovo', 'units of', 'investigation task force']\n",
      "Text 10: ['unmik', 'itf', 'vendor', 'doti', 'apron', 'peap', 'car']\n",
      "Text 11: ['cpe', 'cargo apron', 'doti', 'evaluation company', 'airport', 'cp']\n",
      "Text 12: ['cpe', 'cargo apron', 'doti', 'cargo apron extension', 'office of the legal adviser', 'un']\n",
      "Text 13: ['bush', 'japanese', 'united states', 'us national security agency', 'nsa', 'ministry of economy, trade and industry', 'abe', 'national security agency', 'george w bush', 'washington dc', 'ministry of foreign affairs', 'shinzo abe']\n",
      "Text 14: ['u', 'japanese', 'washington', 'mfa', 'united states', 's', 'abe', 'japan', 'meti', 'ministry of economy, trade, and industry', 'ministry of foreign affairs', 'shinzo abe']\n",
      "Text 15: ['masakazu toyoda', 'emissions trading scheme', 'tokyo', 'europeans', 'european union', 'eu', 'china', 'india', 'toyoda', 's.', 'u', 'ets', 'fatih birol', 'et', 'iea', 'japanese', 'international energy agency', 'european', 'ministry of economy, trade, and industry']\n",
      "Text 16: ['five', 'great britain', 'lake toya', 'nsa', 'gbr', 'ministry of finance', 'g8 summit', 'eyes', 'ministry of environment', 'climate', 'australia', 'aus', 'summit', 'ministry of foreign affairs', 'new zealand', 'nobutaka machimura', 'united states', 'us national security agency', 'g - 8 summit', 'ca', 'japan', 'ministry of economy trade and industry', 'japanese', 'g - 8', 'nz', 'canada', 'usa']\n",
      "Text 17: ['s.', 'u', 'japanese', 'washington', 'cherry', 's', 'pacific northwest', 'department of agriculture', 'tokyo', 'ministry of agriculture, forestry, and fisheries', 'japan', 'maff']\n",
      "Text 18: ['ministry of agriculture, forestry and fisheries', 'japanese', 'washington', 'us', 'us national security agency', 'nsa', 'national security agency', 'japan', 'ministry']\n",
      "Text 19: ['unmik', 'kta', 'department of transport and infrastructure', 'icao', 'doti', 'pristina airport', 'airport sector', 'transport sector', 'civil administration pi', 'fi', 'kfor', 'atcs', 'united nations', 'iv', 'airport', 'pristina international airport', 'unmik directorate of infrastructure affairs', 'kosovo trust agency', 'air traffic control services']\n",
      "Text 20: ['unmik', 'itf', 'no', 'pi', 'kosovo force', 'yugoslavian', 'public enterprise airport p', 'resolution', 'iv', 'pristina international airport', 'peap', 'united nations security council', 'units', 'pristina airport', 'kfor', 'regulation no 1', 'kosovo', 'investigation task force']\n",
      "\n",
      "Final Topic Per Text (Multiple Countries Included If Found):\n",
      "Text 1: russia\n",
      "Text 2: russia\n",
      "Text 3: russia\n",
      "Text 4: russia\n",
      "Text 5: itf\n",
      "Text 6: russia\n",
      "Text 7: russia\n",
      "Text 8: russia\n",
      "Text 9: russia\n",
      "Text 10: russia\n",
      "Text 11: russia\n",
      "Text 12: russia\n",
      "Text 13: russia\n",
      "Text 14: japan\n",
      "Text 15: china, india\n",
      "Text 16: australia, canada, japan, new zealand\n",
      "Text 17: japan\n",
      "Text 18: japan\n",
      "Text 19: russia\n",
      "Text 20: russia\n"
     ]
    }
   ],
   "source": [
    "# Load Hugging Face model for NER\n",
    "model_name = \"dbmdz/bert-large-cased-finetuned-conll03-english\"\n",
    "tokenizer = AutoTokenizer.from_pretrained(model_name)\n",
    "model = AutoModelForTokenClassification.from_pretrained(model_name)\n",
    "\n",
    "# Load NER pipeline\n",
    "ner_pipeline = pipeline(\"ner\", model=model, tokenizer=tokenizer, aggregation_strategy=\"simple\")\n",
    "\n",
    "# Load spaCy model with word vectors\n",
    "nlp = spacy.load(\"en_core_web_md\")  # Ensure model is installed\n",
    "\n",
    "# Load country list from pycountry\n",
    "country_list = {country.name.lower() for country in pycountry.countries}\n",
    "\n",
    "# Step 1: Extract Named Entities (Removing Subword Tokens)\n",
    "all_entities_wiki = []\n",
    "for text in text123_wiki:\n",
    "    ner_results = ner_pipeline(text)\n",
    "    \n",
    "    # Remove entities containing \"#\" (subword tokens)\n",
    "    entities_wiki = list(set(entity[\"word\"].lower() for entity in ner_results if \"#\" not in entity[\"word\"]))\n",
    "    \n",
    "    all_entities_wiki.append(entities_wiki)\n",
    "\n",
    "print(\"\\nExtracted Entities (After Removing Hashes):\")\n",
    "for i, entities in enumerate(all_entities_wiki):\n",
    "    print(f\"Text {i+1}: {entities}\")\n",
    "\n",
    "# Step 2: Identify Country Names If Available, Otherwise Use Word Embedding Method\n",
    "summary_words_wiki = []\n",
    "\n",
    "for i, entities in enumerate(all_entities_wiki):\n",
    "    if not entities:\n",
    "        summary_words_wiki.append(\"No Entities\")  # Handle empty cases\n",
    "        continue\n",
    "\n",
    "    # Use spaCy to detect geopolitical entities (GPE) in the text\n",
    "    doc = nlp(texts_wiki[i])\n",
    "    detected_countries_wiki = {ent.text.lower() for ent in doc.ents if ent.label_ == \"GPE\"}\n",
    "\n",
    "    # Cross-check with pycountry list\n",
    "    country_matches_wiki = detected_countries_wiki.intersection(country_list)\n",
    "\n",
    "    if country_matches_wiki:\n",
    "        # If multiple countries are found, join them with commas\n",
    "        summary_words_wiki.append(\", \".join(sorted(country_matches_wiki)))  # Sorted for consistency\n",
    "        continue\n",
    "\n",
    "    # If no country is found, use word embedding similarity\n",
    "    if len(entities) == 1:\n",
    "        summary_words_wiki.append(entities[0])  # If only one entity, return it directly\n",
    "        continue\n",
    "\n",
    "    # Compute the average vector of all entity words\n",
    "    entity_vectors_wiki = [nlp(entity).vector for entity in entities if nlp(entity).has_vector]\n",
    "\n",
    "    if not entity_vectors_wiki:  # If no valid word vectors exist\n",
    "        summary_words_wiki.append(entities[0])  # Fallback to first entity\n",
    "        continue\n",
    "\n",
    "    centroid_vector_wiki = np.mean(entity_vectors_wiki, axis=0)  # Compute average vector\n",
    "\n",
    "    # Find the closest real word in spaCy's vocabulary\n",
    "    closest_word_wiki = max(\n",
    "    [word for word in nlp.vocab if word.is_alpha],  # Only consider alphabetic words\n",
    "    key=lambda word: word.vector_norm and np.dot(word.vector, centroid_vector_wiki)\n",
    ")\n",
    "\n",
    "\n",
    "    summary_words_wiki.append(closest_word.text)\n",
    "\n",
    "# Step 3: Display Results\n",
    "print(\"\\nFinal Topic Per Text (Multiple Countries Included If Found):\")\n",
    "for i, summary in enumerate(summary_words_wiki):\n",
    "    print(f\"Text {i+1}: {summary}\")\n"
   ]
  },
  {
   "cell_type": "markdown",
   "id": "87ddd3de",
   "metadata": {},
   "source": [
    "### This model extract country names from Entity list, including cities with the help of geopy. Should there by no country names present, it uses LDA on the preprocessed textual data to find a word that is most similar to the text\n"
   ]
  },
  {
   "cell_type": "markdown",
   "id": "f73da8c5",
   "metadata": {},
   "source": [
    "#### wiki"
   ]
  },
  {
   "cell_type": "code",
   "execution_count": 72,
   "id": "e7d3d3a5",
   "metadata": {},
   "outputs": [
    {
     "name": "stderr",
     "output_type": "stream",
     "text": [
      "Some weights of the model checkpoint at dbmdz/bert-large-cased-finetuned-conll03-english were not used when initializing BertForTokenClassification: ['bert.pooler.dense.bias', 'bert.pooler.dense.weight']\n",
      "- This IS expected if you are initializing BertForTokenClassification from the checkpoint of a model trained on another task or with another architecture (e.g. initializing a BertForSequenceClassification model from a BertForPreTraining model).\n",
      "- This IS NOT expected if you are initializing BertForTokenClassification from the checkpoint of a model that you expect to be exactly identical (initializing a BertForSequenceClassification model from a BertForSequenceClassification model).\n",
      "Device set to use cpu\n"
     ]
    },
    {
     "name": "stdout",
     "output_type": "stream",
     "text": [
      "\n",
      "Final Topic Per Text (Including Country Mapping or LDA Topic):\n",
      "Text 1: vendor\n",
      "Text 2: vendor\n",
      "Text 3: memorandum\n",
      "Text 4: evaluation\n",
      "Text 5: work\n",
      "Text 6: cargo\n",
      "Text 7: documents\n",
      "Text 8: official\n",
      "Text 9: airport\n",
      "Text 10: official\n",
      "Text 11: official\n",
      "Text 12: tender\n",
      "Text 13: prime\n",
      "Text 14: abe\n",
      "Text 15: approach\n",
      "Text 16: japanese\n",
      "Text 17: japanese\n",
      "Text 18: report\n",
      "Text 19: airport\n",
      "Text 20: airport\n"
     ]
    }
   ],
   "source": [
    "import re\n",
    "\n",
    "# Load Hugging Face model for NER\n",
    "model_name = \"dbmdz/bert-large-cased-finetuned-conll03-english\"\n",
    "tokenizer = AutoTokenizer.from_pretrained(model_name)\n",
    "model = AutoModelForTokenClassification.from_pretrained(model_name)\n",
    "\n",
    "# Load NER pipeline\n",
    "ner_pipeline = pipeline(\"ner\", model=model, tokenizer=tokenizer, aggregation_strategy=\"simple\")\n",
    "\n",
    "# Load spaCy model with word vectors\n",
    "nlp = spacy.load(\"en_core_web_md\")\n",
    "\n",
    "# Load country list from pycountry\n",
    "country_list = {country.name.lower() for country in pycountry.countries}\n",
    "\n",
    "# Initialize geolocator to map cities to countries\n",
    "geolocator = Nominatim(user_agent=\"country_recognition\")\n",
    "\n",
    "# Initialize Porter Stemmer\n",
    "stemmer = PorterStemmer()\n",
    "\n",
    "# Load stopwords\n",
    "stop_words = set(stopwords.words('english'))\n",
    "\n",
    "# Helper function for text preprocessing\n",
    "def preprocess_text(text):\n",
    "    # Remove non-alphabetic characters and digits\n",
    "    text = re.sub(r'[^a-zA-Z\\s]', '', text)\n",
    "    \n",
    "    # Convert text to lowercase\n",
    "    text = text.lower()\n",
    "    \n",
    "    # Tokenize the text (split into words)\n",
    "    tokens = word_tokenize(text)\n",
    "    \n",
    "    # Remove stopwords and perform stemming\n",
    "    tokens = [stemmer.stem(word) for word in tokens if word not in stop_words]\n",
    "    \n",
    "    # Join tokens back into a string\n",
    "    return ' '.join(tokens)\n",
    "\n",
    "# Step 1: Extract Named Entities (Removing Subword Tokens)\n",
    "all_entities_wiki = []\n",
    "for text in text123_wiki:\n",
    "    ner_results = ner_pipeline(text)\n",
    "    \n",
    "    # Remove entities containing \"#\" (subword tokens)\n",
    "    entities_wiki = list(set(entity[\"word\"].lower() for entity in ner_results if \"#\" not in entity[\"word\"]))\n",
    "    \n",
    "    all_entities_wiki.append(entities)\n",
    "\n",
    "# Step 2: Normalize and Check Countries\n",
    "summary_words_wiki = []\n",
    "\n",
    "for i, entities in enumerate(all_entities_wiki):\n",
    "    if not entities:\n",
    "        summary_words_wiki.append(\"No Entities\")  # Handle empty cases\n",
    "        continue\n",
    "\n",
    "    # Use spaCy to detect geopolitical entities (GPE) in the text\n",
    "    doc = nlp(texts_wiki[i])\n",
    "    detected_countries_wiki = {ent.text.lower() for ent in doc.ents if ent.label_ == \"GPE\"}\n",
    "\n",
    "    # Cross-check with pycountry list\n",
    "    country_matches_wiki = detected_countries.intersection(country_list)\n",
    "\n",
    "    if country_matches_wiki:\n",
    "        # If multiple countries are found, join them with commas\n",
    "        summary_words_wiki.append(\", \".join(sorted(country_matches_wiki)))  # Sorted for consistency\n",
    "        continue\n",
    "\n",
    "    # If no country is found, attempt to resolve abbreviations or cities\n",
    "    resolved_countries_wiki = []\n",
    "    for entity in entities_wiki:\n",
    "        if entity == \"usa\":\n",
    "            resolved_countries_wiki.append(\"united states\")\n",
    "        else:\n",
    "            # Attempt to resolve city to country\n",
    "            location_wiki = geolocator.geocode(entity, timeout=10)\n",
    "            time.sleep(1)\n",
    "            if location_wiki:\n",
    "                country_wiki = location_wiki.raw.get(\"address\", {}).get(\"country\", \"\").lower()\n",
    "                if country_wiki:\n",
    "                    resolved_countries_wiki.append(country)\n",
    "\n",
    "    if resolved_countries_wiki:\n",
    "        # If resolved countries are found, use them as topics\n",
    "        summary_words_wiki.append(\", \".join(sorted(set(resolved_countries_wiki))))  # Avoid duplicates\n",
    "        continue\n",
    "    \n",
    "    \n",
    "    # If no country is found, perform LDA on raw text to extract topic\n",
    "    cleaned_text_wiki = preprocess_text(texts_wiki[i])  # Clean text to remove numbers before LDA\n",
    "\n",
    "    vectorizer = CountVectorizer(stop_words='english')\n",
    "    X_wiki = vectorizer.fit_transform([cleaned_text_wiki])  # Use cleaned text\n",
    "\n",
    "    lda_wiki = LatentDirichletAllocation(n_components=1, random_state=42)\n",
    "    lda_wiki.fit(X_wiki)\n",
    "\n",
    "    # Get the most important word for the topic (pick the word with the highest weight)\n",
    "    feature_names = vectorizer.get_feature_names_out()\n",
    "    topic_word_index_wiki = lda_wiki.components_.argsort()[:, -1][0]  # Get the word with the highest weight\n",
    "    topic_word_wiki = feature_names[topic_word_index_wiki]  # Get the word itself\n",
    "    \n",
    "    if topic_word_wiki.isdigit():  # If the topic word is a number, skip it\n",
    "        topic_word_wiki = \"No Topic Detected\"  # You can handle this however you prefer\n",
    "    \n",
    "    summary_words_wiki.append(topic_word_wiki)  # Only the most significant word\n",
    "\n",
    "# Step 3: Display Results\n",
    "print(\"\\nFinal Topic Per Text (Including Country Mapping or LDA Topic):\")\n",
    "for i, summary in enumerate(summary_words_wiki):\n",
    "    print(f\"Text {i+1}: {summary}\")\n"
   ]
  },
  {
   "cell_type": "markdown",
   "id": "fdf3fd6c",
   "metadata": {},
   "source": [
    "#### news"
   ]
  },
  {
   "cell_type": "code",
   "execution_count": 73,
   "id": "2d11451e",
   "metadata": {},
   "outputs": [
    {
     "name": "stderr",
     "output_type": "stream",
     "text": [
      "Some weights of the model checkpoint at dbmdz/bert-large-cased-finetuned-conll03-english were not used when initializing BertForTokenClassification: ['bert.pooler.dense.bias', 'bert.pooler.dense.weight']\n",
      "- This IS expected if you are initializing BertForTokenClassification from the checkpoint of a model trained on another task or with another architecture (e.g. initializing a BertForSequenceClassification model from a BertForPreTraining model).\n",
      "- This IS NOT expected if you are initializing BertForTokenClassification from the checkpoint of a model that you expect to be exactly identical (initializing a BertForSequenceClassification model from a BertForSequenceClassification model).\n",
      "Device set to use cpu\n"
     ]
    },
    {
     "name": "stdout",
     "output_type": "stream",
     "text": [
      "\n",
      "Final Topic Per Text (Including Country Mapping or LDA Topic):\n",
      "Text 1: law\n",
      "Text 2: singapore\n",
      "Text 3: data\n",
      "Text 4: singapore\n",
      "Text 5: education\n",
      "Text 6: trial\n",
      "Text 7: china\n",
      "Text 8: drug\n",
      "Text 9: feri\n",
      "Text 10: denmark\n",
      "Text 11: griners\n",
      "Text 12: congress\n",
      "Text 13: estonia\n",
      "Text 14: finland, sweden\n",
      "Text 15: reykjavk\n",
      "Text 16: japan, lebanon\n",
      "Text 17: china\n",
      "Text 18: johor\n",
      "Text 19: labor\n",
      "Text 20: khaydarshin\n"
     ]
    }
   ],
   "source": [
    "import re\n",
    "\n",
    "# Load Hugging Face model for NER\n",
    "model_name = \"dbmdz/bert-large-cased-finetuned-conll03-english\"\n",
    "tokenizer = AutoTokenizer.from_pretrained(model_name)\n",
    "model = AutoModelForTokenClassification.from_pretrained(model_name)\n",
    "\n",
    "# Load NER pipeline\n",
    "ner_pipeline = pipeline(\"ner\", model=model, tokenizer=tokenizer, aggregation_strategy=\"simple\")\n",
    "\n",
    "# Load spaCy model with word vectors\n",
    "nlp = spacy.load(\"en_core_web_md\")\n",
    "\n",
    "# Load country list from pycountry\n",
    "country_list = {country.name.lower() for country in pycountry.countries}\n",
    "\n",
    "# Initialize geolocator to map cities to countries\n",
    "geolocator = Nominatim(user_agent=\"country_recognition\")\n",
    "\n",
    "# Initialize Porter Stemmer\n",
    "stemmer = PorterStemmer()\n",
    "\n",
    "# Load stopwords\n",
    "stop_words = set(stopwords.words('english'))\n",
    "\n",
    "# Helper function for text preprocessing\n",
    "def preprocess_text(text):\n",
    "    # Remove non-alphabetic characters and digits\n",
    "    text = re.sub(r'[^a-zA-Z\\s]', '', text)\n",
    "    \n",
    "    # Convert text to lowercase\n",
    "    text = text.lower()\n",
    "    \n",
    "    # Tokenize the text (split into words)\n",
    "    tokens = word_tokenize(text)\n",
    "    \n",
    "    # Remove stopwords and perform stemming\n",
    "    tokens = [stemmer.stem(word) for word in tokens if word not in stop_words]\n",
    "    \n",
    "    # Join tokens back into a string\n",
    "    return ' '.join(tokens)\n",
    "\n",
    "# Step 1: Extract Named Entities (Removing Subword Tokens)\n",
    "all_entities = []\n",
    "for text in text123:\n",
    "    ner_results = ner_pipeline(text)\n",
    "    \n",
    "    # Remove entities containing \"#\" (subword tokens)\n",
    "    entities = list(set(entity[\"word\"].lower() for entity in ner_results if \"#\" not in entity[\"word\"]))\n",
    "    \n",
    "    all_entities.append(entities)\n",
    "\n",
    "# Step 2: Normalize and Check Countries\n",
    "summary_words = []\n",
    "\n",
    "for i, entities in enumerate(all_entities):\n",
    "    if not entities:\n",
    "        summary_words.append(\"No Entities\")  # Handle empty cases\n",
    "        continue\n",
    "\n",
    "    # Use spaCy to detect geopolitical entities (GPE) in the text\n",
    "    doc = nlp(texts[i])\n",
    "    detected_countries = {ent.text.lower() for ent in doc.ents if ent.label_ == \"GPE\"}\n",
    "\n",
    "    # Cross-check with pycountry list\n",
    "    country_matches = detected_countries.intersection(country_list)\n",
    "\n",
    "    if country_matches:\n",
    "        # If multiple countries are found, join them with commas\n",
    "        summary_words.append(\", \".join(sorted(country_matches)))  # Sorted for consistency\n",
    "        continue\n",
    "\n",
    "    # If no country is found, attempt to resolve abbreviations or cities\n",
    "    resolved_countries = []\n",
    "    for entity in entities:\n",
    "        if entity == \"usa\":\n",
    "            resolved_countries.append(\"united states\")\n",
    "        else:\n",
    "            # Attempt to resolve city to country\n",
    "            location = geolocator.geocode(entity, timeout=10)\n",
    "            time.sleep(1)\n",
    "            if location:\n",
    "                country = location.raw.get(\"address\", {}).get(\"country\", \"\").lower()\n",
    "                if country:\n",
    "                    resolved_countries.append(country)\n",
    "\n",
    "    if resolved_countries:\n",
    "        # If resolved countries are found, use them as topics\n",
    "        summary_words.append(\", \".join(sorted(set(resolved_countries))))  # Avoid duplicates\n",
    "        continue\n",
    "    \n",
    "    \n",
    "    # If no country is found, perform LDA on raw text to extract topic\n",
    "    cleaned_text = preprocess_text(texts[i])  # Clean text to remove numbers before LDA\n",
    "\n",
    "    vectorizer = CountVectorizer(stop_words='english')\n",
    "    X = vectorizer.fit_transform([cleaned_text])  # Use cleaned text\n",
    "\n",
    "    lda = LatentDirichletAllocation(n_components=1, random_state=42)\n",
    "    lda.fit(X)\n",
    "\n",
    "    # Get the most important word for the topic (pick the word with the highest weight)\n",
    "    feature_names = vectorizer.get_feature_names_out()\n",
    "    topic_word_index = lda.components_.argsort()[:, -1][0]  # Get the word with the highest weight\n",
    "    topic_word = feature_names[topic_word_index]  # Get the word itself\n",
    "    \n",
    "    if topic_word.isdigit():  # If the topic word is a number, skip it\n",
    "        topic_word = \"No Topic Detected\"  # You can handle this however you prefer\n",
    "    \n",
    "    summary_words.append(topic_word)  # Only the most significant word\n",
    "\n",
    "# Step 3: Display Results\n",
    "print(\"\\nFinal Topic Per Text (Including Country Mapping or LDA Topic):\")\n",
    "for i, summary in enumerate(summary_words):\n",
    "    print(f\"Text {i+1}: {summary}\")\n"
   ]
  },
  {
   "cell_type": "markdown",
   "id": "3e18412b-b4de-46e9-a8b4-7eac7ca63443",
   "metadata": {},
   "source": [
    "## sentimental analysis using vader"
   ]
  },
  {
   "cell_type": "code",
   "execution_count": 15,
   "id": "855754c5-3cd5-42dd-82b6-461239cca3e2",
   "metadata": {},
   "outputs": [],
   "source": [
    "newsdf = pd.read_excel(r'C:\\Users\\ASUSROG\\Downloads\\news_excerpts_parsed.xlsx')\n",
    "wikidf = pd.read_excel(r'C:\\Users\\ASUSROG\\Downloads\\wikileaks_parsed.xlsx')"
   ]
  },
  {
   "cell_type": "markdown",
   "id": "39c54734-66c7-44b4-9f48-8ab42aee64f2",
   "metadata": {},
   "source": [
    "### identifying link domains"
   ]
  },
  {
   "cell_type": "code",
   "execution_count": 16,
   "id": "da6a3c17-603a-4707-a174-b66d82933335",
   "metadata": {},
   "outputs": [
    {
     "data": {
      "text/plain": [
       "Link\n",
       "https://cnalifestyle.channelnewsasia.com/dining/ilmiri-korean-fusion-cuisine-singapore-373046                           2\n",
       "https://edition.cnn.com/2023/09/29/business/starbucks-union-wages/index.html                                            1\n",
       "https://cnalifestyle.channelnewsasia.com/dining/simbian-chua-century-bakkwa-coffres-singapore-food-277991               1\n",
       "https://www.bbc.com/news/uk-66592354                                                                                    1\n",
       "https://www.bbc.com/news/world-asia-china-66636705                                                                      1\n",
       "                                                                                                                       ..\n",
       "https://cnalifestyle.channelnewsasia.com/dining/ingen-kyoto-ion-orchard-teahouse-hvala-382296                           1\n",
       "https://cnalifestyle.channelnewsasia.com/dining/three-little-coconut-cafe-punggol-376741                                1\n",
       "https://cnalifestyle.channelnewsasia.com/dining/20-michelin-bib-hawker-stalls-spend-cdc-vouchers-383631                 1\n",
       "https://www.channelnewsasia.com/singapore/man-stole-crabs-house-of-seafood-not-wearing-mask-jail-fine-2041776           1\n",
       "https://www.straitstimes.com/singapore/parliament-new-measures-to-guard-against-money-laundering-terrorist-financing    1\n",
       "Name: count, Length: 1508, dtype: int64"
      ]
     },
     "execution_count": 16,
     "metadata": {},
     "output_type": "execute_result"
    }
   ],
   "source": [
    "newsdf[\"Link\"].value_counts()"
   ]
  },
  {
   "cell_type": "code",
   "execution_count": 19,
   "id": "e7e136d8-f219-4f2b-9bf6-55a86003f1b1",
   "metadata": {},
   "outputs": [
    {
     "data": {
      "text/html": [
       "<div>\n",
       "<style scoped>\n",
       "    .dataframe tbody tr th:only-of-type {\n",
       "        vertical-align: middle;\n",
       "    }\n",
       "\n",
       "    .dataframe tbody tr th {\n",
       "        vertical-align: top;\n",
       "    }\n",
       "\n",
       "    .dataframe thead th {\n",
       "        text-align: right;\n",
       "    }\n",
       "</style>\n",
       "<table border=\"1\" class=\"dataframe\">\n",
       "  <thead>\n",
       "    <tr style=\"text-align: right;\">\n",
       "      <th></th>\n",
       "      <th>Link</th>\n",
       "      <th>Text</th>\n",
       "      <th>main_domain</th>\n",
       "    </tr>\n",
       "  </thead>\n",
       "  <tbody>\n",
       "    <tr>\n",
       "      <th>0</th>\n",
       "      <td>https://edition.cnn.com/2023/09/29/business/st...</td>\n",
       "      <td>Starbucks violated federal labor law when it i...</td>\n",
       "      <td>cnn.com</td>\n",
       "    </tr>\n",
       "    <tr>\n",
       "      <th>1</th>\n",
       "      <td>https://www.channelnewsasia.com/singapore/su-w...</td>\n",
       "      <td>The first suspect to plead guilty in Singapore...</td>\n",
       "      <td>channelnewsasia.com</td>\n",
       "    </tr>\n",
       "    <tr>\n",
       "      <th>2</th>\n",
       "      <td>https://edition.cnn.com/2023/05/22/tech/meta-f...</td>\n",
       "      <td>Meta has been fined a record-breaking €1.2 bil...</td>\n",
       "      <td>cnn.com</td>\n",
       "    </tr>\n",
       "    <tr>\n",
       "      <th>3</th>\n",
       "      <td>https://www.channelnewsasia.com/singapore/bill...</td>\n",
       "      <td>SINGAPORE: A 45-year-old man linked to Singapo...</td>\n",
       "      <td>channelnewsasia.com</td>\n",
       "    </tr>\n",
       "    <tr>\n",
       "      <th>4</th>\n",
       "      <td>https://edition.cnn.com/2024/03/05/politics/li...</td>\n",
       "      <td>The Department of Education imposed a record $...</td>\n",
       "      <td>cnn.com</td>\n",
       "    </tr>\n",
       "  </tbody>\n",
       "</table>\n",
       "</div>"
      ],
      "text/plain": [
       "                                                Link   \n",
       "0  https://edition.cnn.com/2023/09/29/business/st...  \\\n",
       "1  https://www.channelnewsasia.com/singapore/su-w...   \n",
       "2  https://edition.cnn.com/2023/05/22/tech/meta-f...   \n",
       "3  https://www.channelnewsasia.com/singapore/bill...   \n",
       "4  https://edition.cnn.com/2024/03/05/politics/li...   \n",
       "\n",
       "                                                Text          main_domain  \n",
       "0  Starbucks violated federal labor law when it i...              cnn.com  \n",
       "1  The first suspect to plead guilty in Singapore...  channelnewsasia.com  \n",
       "2  Meta has been fined a record-breaking €1.2 bil...              cnn.com  \n",
       "3  SINGAPORE: A 45-year-old man linked to Singapo...  channelnewsasia.com  \n",
       "4  The Department of Education imposed a record $...              cnn.com  "
      ]
     },
     "execution_count": 19,
     "metadata": {},
     "output_type": "execute_result"
    }
   ],
   "source": [
    "import tldextract\n",
    "\n",
    "newsdf['main_domain'] = newsdf['Link'].apply(lambda x: tldextract.extract(x).registered_domain)\n",
    "\n",
    "newsdf.head()"
   ]
  },
  {
   "cell_type": "code",
   "execution_count": 20,
   "id": "8f2a925c-992a-4994-8016-5896d3d65807",
   "metadata": {},
   "outputs": [
    {
     "data": {
      "text/plain": [
       "array(['cnn.com', 'channelnewsasia.com', 'euronews.com',\n",
       "       'brusselstimes.com', 'expats.cz', 'thelocal.dk', 'postimees.ee',\n",
       "       'yle.fi', 'mbl.is', 'ndtv.com', 'straitstimes.com', 'reuters.com',\n",
       "       'cbsnews.com', 'cnbc.com', 'nasdaq.com', 'businesstimes.com.sg',\n",
       "       'apnews.com', 'ctvnews.ca', 'hrw.org', 'bbc.com',\n",
       "       'uniglobalunion.org', 'koreatimes.co.kr', 'philenews.com',\n",
       "       'yahoo.com', 'inqld.com.au', 'independent.co.ug', 'archive.org',\n",
       "       'reliefweb.int', 'theguardian.com', 'newsweek.com',\n",
       "       'africanews.com', 'dw.com', 'thenation.com', 'nytimes.com',\n",
       "       'nbcnews.com', 'sundaytimes.lk', 'aljazeera.com', 'irishtimes.com',\n",
       "       'washingtonpost.com', 'independent.co.uk', 'singhealth.com.sg',\n",
       "       'nuhsplus.edu.sg', 'nationalgeographic.com',\n",
       "       'nationalgeographic.co.uk', 'todayonline.com', 'time.com',\n",
       "       'scmp.com', 'foxnews.com', 'taipeitimes.com', 'gulfnews.com'],\n",
       "      dtype=object)"
      ]
     },
     "execution_count": 20,
     "metadata": {},
     "output_type": "execute_result"
    }
   ],
   "source": [
    "newsdf['main_domain'].unique()"
   ]
  },
  {
   "cell_type": "markdown",
   "id": "b2791a74-2e51-4820-a722-c67aafef2abd",
   "metadata": {},
   "source": [
    "### assigning scores for newsdf"
   ]
  },
  {
   "cell_type": "code",
   "execution_count": 21,
   "id": "28c1c7f4-fd9e-41c7-a89e-0f067c25ad9e",
   "metadata": {},
   "outputs": [
    {
     "data": {
      "text/plain": [
       "'Starbucks violated federal labor law when it increased wages and offered new perks and benefits only to non-union employees, a National Labor Relations Board judge found Thursday.\\n\\nThe decision is the latest in a series of NLRB rulings finding that Starbucks has violated labor law in its efforts to stop unions from forming in its coffee shops.\\n\\n“The issue at the heart of this case is whether, under current Board law, [Starbucks] was entitled to explicitly reward employees,” for not participating in union activity, “while falsely telling its workers that the federal labor law forced it to take this action,” wrote administrative law judge Mara-Louise Anzalone. “It was not.”'"
      ]
     },
     "execution_count": 21,
     "metadata": {},
     "output_type": "execute_result"
    }
   ],
   "source": [
    "newsdf.iloc[0][1]"
   ]
  },
  {
   "cell_type": "code",
   "execution_count": 22,
   "id": "37e5d8af-7a31-4e9b-8d78-7d53609fb3a6",
   "metadata": {},
   "outputs": [
    {
     "data": {
      "text/plain": [
       "{'neg': 0.099, 'neu': 0.815, 'pos': 0.086, 'compound': -0.3612}"
      ]
     },
     "execution_count": 22,
     "metadata": {},
     "output_type": "execute_result"
    }
   ],
   "source": [
    "sent.polarity_scores(newsdf.iloc[0][1])"
   ]
  },
  {
   "cell_type": "code",
   "execution_count": 23,
   "id": "8f674ee0-e2a2-4ff8-abe0-20a324073a21",
   "metadata": {},
   "outputs": [],
   "source": [
    "senti_rating = sent.polarity_scores(newsdf.iloc[0][1])"
   ]
  },
  {
   "cell_type": "code",
   "execution_count": 24,
   "id": "6daa6792-ed83-43f0-aa21-e7191c7af6b5",
   "metadata": {},
   "outputs": [
    {
     "data": {
      "text/plain": [
       "dict"
      ]
     },
     "execution_count": 24,
     "metadata": {},
     "output_type": "execute_result"
    }
   ],
   "source": [
    "type(senti_rating)"
   ]
  },
  {
   "cell_type": "code",
   "execution_count": 25,
   "id": "7badeaa6-5232-4bf4-b2fd-2c4cbe9c3730",
   "metadata": {},
   "outputs": [
    {
     "data": {
      "text/plain": [
       "-0.3612"
      ]
     },
     "execution_count": 25,
     "metadata": {},
     "output_type": "execute_result"
    }
   ],
   "source": [
    "senti_rating['compound']"
   ]
  },
  {
   "cell_type": "code",
   "execution_count": 26,
   "id": "638be37b-f89c-4645-af88-5cab12774a76",
   "metadata": {},
   "outputs": [],
   "source": [
    "score_com = []\n",
    "score_pos = []\n",
    "score_neg = []\n",
    "for i in range(0, newsdf.shape[0]):\n",
    "    score = sent.polarity_scores(newsdf.iloc[i][1])\n",
    "    score1 = score['compound']\n",
    "    score_com.append(score1)\n",
    "\n",
    "    score2 = score['pos']\n",
    "    score_pos.append(score2)\n",
    "\n",
    "    score3 = score['neg']\n",
    "    score_neg.append(score3)"
   ]
  },
  {
   "cell_type": "code",
   "execution_count": 27,
   "id": "924c18fa-bbe9-4bd9-96e1-eba84cab02ff",
   "metadata": {},
   "outputs": [],
   "source": [
    "newsdf[\"Pos Score\"] = score_pos\n",
    "newsdf[\"Neg Score\"] = score_neg\n",
    "newsdf[\"Comp Score\"] = score_com"
   ]
  },
  {
   "cell_type": "code",
   "execution_count": 28,
   "id": "ce7b8cfa-f562-4eed-a000-485e330522af",
   "metadata": {},
   "outputs": [
    {
     "data": {
      "text/plain": [
       "(1509, 6)"
      ]
     },
     "execution_count": 28,
     "metadata": {},
     "output_type": "execute_result"
    }
   ],
   "source": [
    "newsdf.shape"
   ]
  },
  {
   "cell_type": "code",
   "execution_count": 29,
   "id": "f2733ce8-f241-429a-9787-8b3e09a4d1ae",
   "metadata": {},
   "outputs": [
    {
     "data": {
      "text/html": [
       "<div>\n",
       "<style scoped>\n",
       "    .dataframe tbody tr th:only-of-type {\n",
       "        vertical-align: middle;\n",
       "    }\n",
       "\n",
       "    .dataframe tbody tr th {\n",
       "        vertical-align: top;\n",
       "    }\n",
       "\n",
       "    .dataframe thead th {\n",
       "        text-align: right;\n",
       "    }\n",
       "</style>\n",
       "<table border=\"1\" class=\"dataframe\">\n",
       "  <thead>\n",
       "    <tr style=\"text-align: right;\">\n",
       "      <th></th>\n",
       "      <th>Link</th>\n",
       "      <th>Text</th>\n",
       "      <th>main_domain</th>\n",
       "      <th>Pos Score</th>\n",
       "      <th>Neg Score</th>\n",
       "      <th>Comp Score</th>\n",
       "    </tr>\n",
       "  </thead>\n",
       "  <tbody>\n",
       "    <tr>\n",
       "      <th>0</th>\n",
       "      <td>https://edition.cnn.com/2023/09/29/business/st...</td>\n",
       "      <td>Starbucks violated federal labor law when it i...</td>\n",
       "      <td>cnn.com</td>\n",
       "      <td>0.086</td>\n",
       "      <td>0.099</td>\n",
       "      <td>-0.3612</td>\n",
       "    </tr>\n",
       "    <tr>\n",
       "      <th>1</th>\n",
       "      <td>https://www.channelnewsasia.com/singapore/su-w...</td>\n",
       "      <td>The first suspect to plead guilty in Singapore...</td>\n",
       "      <td>channelnewsasia.com</td>\n",
       "      <td>0.043</td>\n",
       "      <td>0.166</td>\n",
       "      <td>-0.9442</td>\n",
       "    </tr>\n",
       "    <tr>\n",
       "      <th>2</th>\n",
       "      <td>https://edition.cnn.com/2023/05/22/tech/meta-f...</td>\n",
       "      <td>Meta has been fined a record-breaking €1.2 bil...</td>\n",
       "      <td>cnn.com</td>\n",
       "      <td>0.063</td>\n",
       "      <td>0.042</td>\n",
       "      <td>0.2263</td>\n",
       "    </tr>\n",
       "    <tr>\n",
       "      <th>3</th>\n",
       "      <td>https://www.channelnewsasia.com/singapore/bill...</td>\n",
       "      <td>SINGAPORE: A 45-year-old man linked to Singapo...</td>\n",
       "      <td>channelnewsasia.com</td>\n",
       "      <td>0.091</td>\n",
       "      <td>0.148</td>\n",
       "      <td>-0.7650</td>\n",
       "    </tr>\n",
       "    <tr>\n",
       "      <th>4</th>\n",
       "      <td>https://edition.cnn.com/2024/03/05/politics/li...</td>\n",
       "      <td>The Department of Education imposed a record $...</td>\n",
       "      <td>cnn.com</td>\n",
       "      <td>0.178</td>\n",
       "      <td>0.178</td>\n",
       "      <td>-0.4404</td>\n",
       "    </tr>\n",
       "  </tbody>\n",
       "</table>\n",
       "</div>"
      ],
      "text/plain": [
       "                                                Link   \n",
       "0  https://edition.cnn.com/2023/09/29/business/st...  \\\n",
       "1  https://www.channelnewsasia.com/singapore/su-w...   \n",
       "2  https://edition.cnn.com/2023/05/22/tech/meta-f...   \n",
       "3  https://www.channelnewsasia.com/singapore/bill...   \n",
       "4  https://edition.cnn.com/2024/03/05/politics/li...   \n",
       "\n",
       "                                                Text          main_domain   \n",
       "0  Starbucks violated federal labor law when it i...              cnn.com  \\\n",
       "1  The first suspect to plead guilty in Singapore...  channelnewsasia.com   \n",
       "2  Meta has been fined a record-breaking €1.2 bil...              cnn.com   \n",
       "3  SINGAPORE: A 45-year-old man linked to Singapo...  channelnewsasia.com   \n",
       "4  The Department of Education imposed a record $...              cnn.com   \n",
       "\n",
       "   Pos Score  Neg Score  Comp Score  \n",
       "0      0.086      0.099     -0.3612  \n",
       "1      0.043      0.166     -0.9442  \n",
       "2      0.063      0.042      0.2263  \n",
       "3      0.091      0.148     -0.7650  \n",
       "4      0.178      0.178     -0.4404  "
      ]
     },
     "execution_count": 29,
     "metadata": {},
     "output_type": "execute_result"
    }
   ],
   "source": [
    "newsdf.head()"
   ]
  },
  {
   "cell_type": "code",
   "execution_count": 30,
   "id": "d7652401-e5f3-4d03-86c1-6cc7d807fbed",
   "metadata": {},
   "outputs": [
    {
     "data": {
      "text/plain": [
       "0.14752001325381045"
      ]
     },
     "execution_count": 30,
     "metadata": {},
     "output_type": "execute_result"
    }
   ],
   "source": [
    "newsdf[\"Comp Score\"].mean()"
   ]
  },
  {
   "cell_type": "code",
   "execution_count": 31,
   "id": "a732e727-6cfd-4564-ae90-a22786575b17",
   "metadata": {},
   "outputs": [
    {
     "data": {
      "text/html": [
       "<div>\n",
       "<style scoped>\n",
       "    .dataframe tbody tr th:only-of-type {\n",
       "        vertical-align: middle;\n",
       "    }\n",
       "\n",
       "    .dataframe tbody tr th {\n",
       "        vertical-align: top;\n",
       "    }\n",
       "\n",
       "    .dataframe thead th {\n",
       "        text-align: right;\n",
       "    }\n",
       "</style>\n",
       "<table border=\"1\" class=\"dataframe\">\n",
       "  <thead>\n",
       "    <tr style=\"text-align: right;\">\n",
       "      <th></th>\n",
       "      <th>Link</th>\n",
       "      <th>Text</th>\n",
       "      <th>main_domain</th>\n",
       "      <th>Pos Score</th>\n",
       "      <th>Neg Score</th>\n",
       "      <th>Comp Score</th>\n",
       "      <th>Overall Rating</th>\n",
       "    </tr>\n",
       "  </thead>\n",
       "  <tbody>\n",
       "    <tr>\n",
       "      <th>0</th>\n",
       "      <td>https://edition.cnn.com/2023/09/29/business/st...</td>\n",
       "      <td>Starbucks violated federal labor law when it i...</td>\n",
       "      <td>cnn.com</td>\n",
       "      <td>0.086</td>\n",
       "      <td>0.099</td>\n",
       "      <td>-0.3612</td>\n",
       "      <td>Negative</td>\n",
       "    </tr>\n",
       "    <tr>\n",
       "      <th>1</th>\n",
       "      <td>https://www.channelnewsasia.com/singapore/su-w...</td>\n",
       "      <td>The first suspect to plead guilty in Singapore...</td>\n",
       "      <td>channelnewsasia.com</td>\n",
       "      <td>0.043</td>\n",
       "      <td>0.166</td>\n",
       "      <td>-0.9442</td>\n",
       "      <td>Negative</td>\n",
       "    </tr>\n",
       "    <tr>\n",
       "      <th>2</th>\n",
       "      <td>https://edition.cnn.com/2023/05/22/tech/meta-f...</td>\n",
       "      <td>Meta has been fined a record-breaking €1.2 bil...</td>\n",
       "      <td>cnn.com</td>\n",
       "      <td>0.063</td>\n",
       "      <td>0.042</td>\n",
       "      <td>0.2263</td>\n",
       "      <td>Positive</td>\n",
       "    </tr>\n",
       "    <tr>\n",
       "      <th>3</th>\n",
       "      <td>https://www.channelnewsasia.com/singapore/bill...</td>\n",
       "      <td>SINGAPORE: A 45-year-old man linked to Singapo...</td>\n",
       "      <td>channelnewsasia.com</td>\n",
       "      <td>0.091</td>\n",
       "      <td>0.148</td>\n",
       "      <td>-0.7650</td>\n",
       "      <td>Negative</td>\n",
       "    </tr>\n",
       "    <tr>\n",
       "      <th>4</th>\n",
       "      <td>https://edition.cnn.com/2024/03/05/politics/li...</td>\n",
       "      <td>The Department of Education imposed a record $...</td>\n",
       "      <td>cnn.com</td>\n",
       "      <td>0.178</td>\n",
       "      <td>0.178</td>\n",
       "      <td>-0.4404</td>\n",
       "      <td>Negative</td>\n",
       "    </tr>\n",
       "    <tr>\n",
       "      <th>5</th>\n",
       "      <td>https://www.euronews.com/2024/02/23/judge-conv...</td>\n",
       "      <td>After twelve days of deliberation, a Vienna co...</td>\n",
       "      <td>euronews.com</td>\n",
       "      <td>0.090</td>\n",
       "      <td>0.083</td>\n",
       "      <td>-0.2960</td>\n",
       "      <td>Negative</td>\n",
       "    </tr>\n",
       "    <tr>\n",
       "      <th>6</th>\n",
       "      <td>https://edition.cnn.com/2022/07/21/economy/chi...</td>\n",
       "      <td>China’s cyberspace regulator fined Didi Global...</td>\n",
       "      <td>cnn.com</td>\n",
       "      <td>0.069</td>\n",
       "      <td>0.094</td>\n",
       "      <td>-0.5106</td>\n",
       "      <td>Negative</td>\n",
       "    </tr>\n",
       "    <tr>\n",
       "      <th>7</th>\n",
       "      <td>https://www.brusselstimes.com/justice-belgium/...</td>\n",
       "      <td>On Thursday, the Brussels Criminal Court’s pro...</td>\n",
       "      <td>brusselstimes.com</td>\n",
       "      <td>0.083</td>\n",
       "      <td>0.109</td>\n",
       "      <td>-0.7269</td>\n",
       "      <td>Negative</td>\n",
       "    </tr>\n",
       "    <tr>\n",
       "      <th>8</th>\n",
       "      <td>https://www.expats.cz/czech-news/article/forme...</td>\n",
       "      <td>The Prague 3 District Court this morning sente...</td>\n",
       "      <td>expats.cz</td>\n",
       "      <td>0.066</td>\n",
       "      <td>0.181</td>\n",
       "      <td>-0.9345</td>\n",
       "      <td>Negative</td>\n",
       "    </tr>\n",
       "    <tr>\n",
       "      <th>9</th>\n",
       "      <td>https://www.thelocal.dk/20240311/british-trade...</td>\n",
       "      <td>Sanjay Shah, who was arrested in June 2022 in ...</td>\n",
       "      <td>thelocal.dk</td>\n",
       "      <td>0.067</td>\n",
       "      <td>0.127</td>\n",
       "      <td>-0.8809</td>\n",
       "      <td>Negative</td>\n",
       "    </tr>\n",
       "  </tbody>\n",
       "</table>\n",
       "</div>"
      ],
      "text/plain": [
       "                                                Link   \n",
       "0  https://edition.cnn.com/2023/09/29/business/st...  \\\n",
       "1  https://www.channelnewsasia.com/singapore/su-w...   \n",
       "2  https://edition.cnn.com/2023/05/22/tech/meta-f...   \n",
       "3  https://www.channelnewsasia.com/singapore/bill...   \n",
       "4  https://edition.cnn.com/2024/03/05/politics/li...   \n",
       "5  https://www.euronews.com/2024/02/23/judge-conv...   \n",
       "6  https://edition.cnn.com/2022/07/21/economy/chi...   \n",
       "7  https://www.brusselstimes.com/justice-belgium/...   \n",
       "8  https://www.expats.cz/czech-news/article/forme...   \n",
       "9  https://www.thelocal.dk/20240311/british-trade...   \n",
       "\n",
       "                                                Text          main_domain   \n",
       "0  Starbucks violated federal labor law when it i...              cnn.com  \\\n",
       "1  The first suspect to plead guilty in Singapore...  channelnewsasia.com   \n",
       "2  Meta has been fined a record-breaking €1.2 bil...              cnn.com   \n",
       "3  SINGAPORE: A 45-year-old man linked to Singapo...  channelnewsasia.com   \n",
       "4  The Department of Education imposed a record $...              cnn.com   \n",
       "5  After twelve days of deliberation, a Vienna co...         euronews.com   \n",
       "6  China’s cyberspace regulator fined Didi Global...              cnn.com   \n",
       "7  On Thursday, the Brussels Criminal Court’s pro...    brusselstimes.com   \n",
       "8  The Prague 3 District Court this morning sente...            expats.cz   \n",
       "9  Sanjay Shah, who was arrested in June 2022 in ...          thelocal.dk   \n",
       "\n",
       "   Pos Score  Neg Score  Comp Score Overall Rating  \n",
       "0      0.086      0.099     -0.3612       Negative  \n",
       "1      0.043      0.166     -0.9442       Negative  \n",
       "2      0.063      0.042      0.2263       Positive  \n",
       "3      0.091      0.148     -0.7650       Negative  \n",
       "4      0.178      0.178     -0.4404       Negative  \n",
       "5      0.090      0.083     -0.2960       Negative  \n",
       "6      0.069      0.094     -0.5106       Negative  \n",
       "7      0.083      0.109     -0.7269       Negative  \n",
       "8      0.066      0.181     -0.9345       Negative  \n",
       "9      0.067      0.127     -0.8809       Negative  "
      ]
     },
     "execution_count": 31,
     "metadata": {},
     "output_type": "execute_result"
    }
   ],
   "source": [
    "newsdf['Overall Rating'] = newsdf['Comp Score'].apply(lambda x: 'Positive' if x > 0 else 'Negative')\n",
    "\n",
    "newsdf.head(10)"
   ]
  },
  {
   "cell_type": "code",
   "execution_count": 32,
   "id": "4b5bc71c-597a-40e8-aefe-f7ae277182a2",
   "metadata": {},
   "outputs": [
    {
     "data": {
      "text/plain": [
       "Overall Rating\n",
       "Positive    905\n",
       "Negative    604\n",
       "Name: count, dtype: int64"
      ]
     },
     "execution_count": 32,
     "metadata": {},
     "output_type": "execute_result"
    }
   ],
   "source": [
    "newsdf['Overall Rating'].value_counts()"
   ]
  },
  {
   "cell_type": "markdown",
   "id": "fb29308b-8f96-4e6f-86fa-2bb0fb0c41b4",
   "metadata": {},
   "source": [
    "### assigning scores for wikidf"
   ]
  },
  {
   "cell_type": "code",
   "execution_count": 33,
   "id": "69ad47e3-3170-4607-a04a-7b05a4d322af",
   "metadata": {},
   "outputs": [
    {
     "data": {
      "text/plain": [
       "'Pristina Airport – Possible administrative irregularity regarding tender procedures involving Vendor 1 and Vendor 2\\n\\nAllegation\\n\\nTwo companies with the same owner took part at least three times in the same Airport tenders.\\n\\nBackground Information\\n\\nThe Kosovo citizen, Vendor 1 and Vendor 2 Representative, is the owner and Director of the Pristina-based Vendor 1 and also a 51% shareholder of the Pristina-Ljubljana-based company Vendor 2. Both companies have their residences at the same address in Pristina.\\n\\nBoth Vendor 1 and Vendor 2 submitted three times in 2003 for the same tenders:\\n\\nSupply and Mounting of Sonic System in the Fire Station Building. Winner was Vendor 2 with €1,530 followed by Vendor 1 with €1,620. The third company, Vendor 3, did not provide a price offer.\\n\\nCabling of Flat Display Information System (FIDS). Winner was Vendor 1 with €15,919 followed by Vendor 2 with €19,248.70. The other two competitors, Vendor 3 and Vendor 4, offered prices of Euro 19,702 and Euro 21,045.\\n\\nPurchase and fixing of Cramer Antenna. Winner was again Vendor 1 with €3,627.99 followed by Vendor 2 with €3,921. The other two competitors, Vendor 3 and Vendor 4, offered prices of €4,278 and €4,670.'"
      ]
     },
     "execution_count": 33,
     "metadata": {},
     "output_type": "execute_result"
    }
   ],
   "source": [
    "wikidf.iloc[0][1]"
   ]
  },
  {
   "cell_type": "code",
   "execution_count": 34,
   "id": "956bb4f3-87a4-4e9b-8c3b-0eb2d754d0ff",
   "metadata": {},
   "outputs": [
    {
     "data": {
      "text/plain": [
       "{'neg': 0.013, 'neu': 0.91, 'pos': 0.078, 'compound': 0.9042}"
      ]
     },
     "execution_count": 34,
     "metadata": {},
     "output_type": "execute_result"
    }
   ],
   "source": [
    "sent.polarity_scores(wikidf.iloc[0][1])"
   ]
  },
  {
   "cell_type": "code",
   "execution_count": 35,
   "id": "df8a0526-76e9-4a86-a212-972d16ae0cb1",
   "metadata": {},
   "outputs": [],
   "source": [
    "senti_rating2 = sent.polarity_scores(wikidf.iloc[0][1])"
   ]
  },
  {
   "cell_type": "code",
   "execution_count": 36,
   "id": "97eb484e-001e-4038-80c4-b187b65ddcdc",
   "metadata": {},
   "outputs": [
    {
     "data": {
      "text/plain": [
       "dict"
      ]
     },
     "execution_count": 36,
     "metadata": {},
     "output_type": "execute_result"
    }
   ],
   "source": [
    "type(senti_rating)"
   ]
  },
  {
   "cell_type": "code",
   "execution_count": 37,
   "id": "60e2ac76-c100-44db-a9b3-984cb781a82b",
   "metadata": {},
   "outputs": [
    {
     "data": {
      "text/plain": [
       "0.9042"
      ]
     },
     "execution_count": 37,
     "metadata": {},
     "output_type": "execute_result"
    }
   ],
   "source": [
    "senti_rating2['compound']"
   ]
  },
  {
   "cell_type": "code",
   "execution_count": 38,
   "id": "55e18e56-db0e-4189-b9f1-f47bda1e9f7a",
   "metadata": {},
   "outputs": [],
   "source": [
    "score_com2 = []\n",
    "score_pos2 = []\n",
    "score_neg2 = []\n",
    "for i in range(0, wikidf.shape[0]):\n",
    "    score = sent.polarity_scores(wikidf.iloc[i][1])\n",
    "    score1 = score['compound']\n",
    "    score_com2.append(score1)\n",
    "\n",
    "    score2 = score['pos']\n",
    "    score_pos2.append(score2)\n",
    "\n",
    "    score3 = score['neg']\n",
    "    score_neg2.append(score3)"
   ]
  },
  {
   "cell_type": "code",
   "execution_count": 39,
   "id": "24a54f4c-7156-4baa-8140-86ac9c8211e4",
   "metadata": {},
   "outputs": [],
   "source": [
    "wikidf[\"Pos Score\"] = score_pos2\n",
    "wikidf[\"Neg Score\"] = score_neg2\n",
    "wikidf[\"Comp Score\"] = score_com2"
   ]
  },
  {
   "cell_type": "code",
   "execution_count": 40,
   "id": "8bba67b2-bfcc-4786-9235-45394a99f35a",
   "metadata": {},
   "outputs": [
    {
     "data": {
      "text/plain": [
       "(143, 5)"
      ]
     },
     "execution_count": 40,
     "metadata": {},
     "output_type": "execute_result"
    }
   ],
   "source": [
    "wikidf.shape"
   ]
  },
  {
   "cell_type": "code",
   "execution_count": 41,
   "id": "7125ec4e-1dc8-486c-b0b1-cb949f044088",
   "metadata": {},
   "outputs": [
    {
     "data": {
      "text/html": [
       "<div>\n",
       "<style scoped>\n",
       "    .dataframe tbody tr th:only-of-type {\n",
       "        vertical-align: middle;\n",
       "    }\n",
       "\n",
       "    .dataframe tbody tr th {\n",
       "        vertical-align: top;\n",
       "    }\n",
       "\n",
       "    .dataframe thead th {\n",
       "        text-align: right;\n",
       "    }\n",
       "</style>\n",
       "<table border=\"1\" class=\"dataframe\">\n",
       "  <thead>\n",
       "    <tr style=\"text-align: right;\">\n",
       "      <th></th>\n",
       "      <th>PDF Path</th>\n",
       "      <th>Text</th>\n",
       "      <th>Pos Score</th>\n",
       "      <th>Neg Score</th>\n",
       "      <th>Comp Score</th>\n",
       "    </tr>\n",
       "  </thead>\n",
       "  <tbody>\n",
       "    <tr>\n",
       "      <th>0</th>\n",
       "      <td>1.pdf</td>\n",
       "      <td>Pristina Airport – Possible administrative irr...</td>\n",
       "      <td>0.078</td>\n",
       "      <td>0.013</td>\n",
       "      <td>0.9042</td>\n",
       "    </tr>\n",
       "    <tr>\n",
       "      <th>1</th>\n",
       "      <td>1.pdf</td>\n",
       "      <td>Investigative details\\n\\nIn his/her interviews...</td>\n",
       "      <td>0.092</td>\n",
       "      <td>0.092</td>\n",
       "      <td>-0.2500</td>\n",
       "    </tr>\n",
       "    <tr>\n",
       "      <th>2</th>\n",
       "      <td>10.pdf</td>\n",
       "      <td>\"An interoffice memorandum providing an “outst...</td>\n",
       "      <td>0.000</td>\n",
       "      <td>0.000</td>\n",
       "      <td>0.0000</td>\n",
       "    </tr>\n",
       "    <tr>\n",
       "      <th>3</th>\n",
       "      <td>10.pdf</td>\n",
       "      <td>\"Allegation 2 &amp; 3:\\n\\n(Specifically, three of ...</td>\n",
       "      <td>0.051</td>\n",
       "      <td>0.014</td>\n",
       "      <td>0.6249</td>\n",
       "    </tr>\n",
       "    <tr>\n",
       "      <th>4</th>\n",
       "      <td>10.pdf</td>\n",
       "      <td>\"When asked about this in interview, the Divis...</td>\n",
       "      <td>0.056</td>\n",
       "      <td>0.053</td>\n",
       "      <td>0.0900</td>\n",
       "    </tr>\n",
       "  </tbody>\n",
       "</table>\n",
       "</div>"
      ],
      "text/plain": [
       "  PDF Path                                               Text  Pos Score   \n",
       "0    1.pdf  Pristina Airport – Possible administrative irr...      0.078  \\\n",
       "1    1.pdf  Investigative details\\n\\nIn his/her interviews...      0.092   \n",
       "2   10.pdf  \"An interoffice memorandum providing an “outst...      0.000   \n",
       "3   10.pdf  \"Allegation 2 & 3:\\n\\n(Specifically, three of ...      0.051   \n",
       "4   10.pdf  \"When asked about this in interview, the Divis...      0.056   \n",
       "\n",
       "   Neg Score  Comp Score  \n",
       "0      0.013      0.9042  \n",
       "1      0.092     -0.2500  \n",
       "2      0.000      0.0000  \n",
       "3      0.014      0.6249  \n",
       "4      0.053      0.0900  "
      ]
     },
     "execution_count": 41,
     "metadata": {},
     "output_type": "execute_result"
    }
   ],
   "source": [
    "wikidf.head()"
   ]
  },
  {
   "cell_type": "code",
   "execution_count": 42,
   "id": "663fab17-41e6-44e4-8794-c7cd3f664e92",
   "metadata": {},
   "outputs": [
    {
     "data": {
      "text/plain": [
       "0.27020139860139863"
      ]
     },
     "execution_count": 42,
     "metadata": {},
     "output_type": "execute_result"
    }
   ],
   "source": [
    "wikidf[\"Comp Score\"].mean()"
   ]
  },
  {
   "cell_type": "code",
   "execution_count": 43,
   "id": "00759b8a-7d79-45e3-beb8-cfa4070a957d",
   "metadata": {},
   "outputs": [
    {
     "data": {
      "text/html": [
       "<div>\n",
       "<style scoped>\n",
       "    .dataframe tbody tr th:only-of-type {\n",
       "        vertical-align: middle;\n",
       "    }\n",
       "\n",
       "    .dataframe tbody tr th {\n",
       "        vertical-align: top;\n",
       "    }\n",
       "\n",
       "    .dataframe thead th {\n",
       "        text-align: right;\n",
       "    }\n",
       "</style>\n",
       "<table border=\"1\" class=\"dataframe\">\n",
       "  <thead>\n",
       "    <tr style=\"text-align: right;\">\n",
       "      <th></th>\n",
       "      <th>PDF Path</th>\n",
       "      <th>Text</th>\n",
       "      <th>Pos Score</th>\n",
       "      <th>Neg Score</th>\n",
       "      <th>Comp Score</th>\n",
       "      <th>Overall Rating</th>\n",
       "    </tr>\n",
       "  </thead>\n",
       "  <tbody>\n",
       "    <tr>\n",
       "      <th>0</th>\n",
       "      <td>1.pdf</td>\n",
       "      <td>Pristina Airport – Possible administrative irr...</td>\n",
       "      <td>0.078</td>\n",
       "      <td>0.013</td>\n",
       "      <td>0.9042</td>\n",
       "      <td>Positive</td>\n",
       "    </tr>\n",
       "    <tr>\n",
       "      <th>1</th>\n",
       "      <td>1.pdf</td>\n",
       "      <td>Investigative details\\n\\nIn his/her interviews...</td>\n",
       "      <td>0.092</td>\n",
       "      <td>0.092</td>\n",
       "      <td>-0.2500</td>\n",
       "      <td>Negative</td>\n",
       "    </tr>\n",
       "    <tr>\n",
       "      <th>2</th>\n",
       "      <td>10.pdf</td>\n",
       "      <td>\"An interoffice memorandum providing an “outst...</td>\n",
       "      <td>0.000</td>\n",
       "      <td>0.000</td>\n",
       "      <td>0.0000</td>\n",
       "      <td>Negative</td>\n",
       "    </tr>\n",
       "    <tr>\n",
       "      <th>3</th>\n",
       "      <td>10.pdf</td>\n",
       "      <td>\"Allegation 2 &amp; 3:\\n\\n(Specifically, three of ...</td>\n",
       "      <td>0.051</td>\n",
       "      <td>0.014</td>\n",
       "      <td>0.6249</td>\n",
       "      <td>Positive</td>\n",
       "    </tr>\n",
       "    <tr>\n",
       "      <th>4</th>\n",
       "      <td>10.pdf</td>\n",
       "      <td>\"When asked about this in interview, the Divis...</td>\n",
       "      <td>0.056</td>\n",
       "      <td>0.053</td>\n",
       "      <td>0.0900</td>\n",
       "      <td>Positive</td>\n",
       "    </tr>\n",
       "    <tr>\n",
       "      <th>5</th>\n",
       "      <td>10.pdf</td>\n",
       "      <td>\"INVESTIGATION DETAILS\\n\\nThis part of the inv...</td>\n",
       "      <td>0.019</td>\n",
       "      <td>0.017</td>\n",
       "      <td>0.0557</td>\n",
       "      <td>Positive</td>\n",
       "    </tr>\n",
       "    <tr>\n",
       "      <th>6</th>\n",
       "      <td>10.pdf</td>\n",
       "      <td>\"At paragraph 4 of the Cargo Apron Extension e...</td>\n",
       "      <td>0.012</td>\n",
       "      <td>0.033</td>\n",
       "      <td>-0.4559</td>\n",
       "      <td>Negative</td>\n",
       "    </tr>\n",
       "    <tr>\n",
       "      <th>7</th>\n",
       "      <td>10.pdf</td>\n",
       "      <td>\"Until the end of June 2002, responsibility fo...</td>\n",
       "      <td>0.035</td>\n",
       "      <td>0.000</td>\n",
       "      <td>0.7845</td>\n",
       "      <td>Positive</td>\n",
       "    </tr>\n",
       "    <tr>\n",
       "      <th>8</th>\n",
       "      <td>10.pdf</td>\n",
       "      <td>\"METHODOLOGY\\n\\nThis investigation was conduct...</td>\n",
       "      <td>0.067</td>\n",
       "      <td>0.025</td>\n",
       "      <td>0.7506</td>\n",
       "      <td>Positive</td>\n",
       "    </tr>\n",
       "    <tr>\n",
       "      <th>9</th>\n",
       "      <td>10.pdf</td>\n",
       "      <td>\"Allegation 4:\\n\\n(Specifically, that the Vend...</td>\n",
       "      <td>0.020</td>\n",
       "      <td>0.009</td>\n",
       "      <td>0.2263</td>\n",
       "      <td>Positive</td>\n",
       "    </tr>\n",
       "  </tbody>\n",
       "</table>\n",
       "</div>"
      ],
      "text/plain": [
       "  PDF Path                                               Text  Pos Score   \n",
       "0    1.pdf  Pristina Airport – Possible administrative irr...      0.078  \\\n",
       "1    1.pdf  Investigative details\\n\\nIn his/her interviews...      0.092   \n",
       "2   10.pdf  \"An interoffice memorandum providing an “outst...      0.000   \n",
       "3   10.pdf  \"Allegation 2 & 3:\\n\\n(Specifically, three of ...      0.051   \n",
       "4   10.pdf  \"When asked about this in interview, the Divis...      0.056   \n",
       "5   10.pdf  \"INVESTIGATION DETAILS\\n\\nThis part of the inv...      0.019   \n",
       "6   10.pdf  \"At paragraph 4 of the Cargo Apron Extension e...      0.012   \n",
       "7   10.pdf  \"Until the end of June 2002, responsibility fo...      0.035   \n",
       "8   10.pdf  \"METHODOLOGY\\n\\nThis investigation was conduct...      0.067   \n",
       "9   10.pdf  \"Allegation 4:\\n\\n(Specifically, that the Vend...      0.020   \n",
       "\n",
       "   Neg Score  Comp Score Overall Rating  \n",
       "0      0.013      0.9042       Positive  \n",
       "1      0.092     -0.2500       Negative  \n",
       "2      0.000      0.0000       Negative  \n",
       "3      0.014      0.6249       Positive  \n",
       "4      0.053      0.0900       Positive  \n",
       "5      0.017      0.0557       Positive  \n",
       "6      0.033     -0.4559       Negative  \n",
       "7      0.000      0.7845       Positive  \n",
       "8      0.025      0.7506       Positive  \n",
       "9      0.009      0.2263       Positive  "
      ]
     },
     "execution_count": 43,
     "metadata": {},
     "output_type": "execute_result"
    }
   ],
   "source": [
    "wikidf['Overall Rating'] = wikidf['Comp Score'].apply(lambda x: 'Positive' if x > 0 else 'Negative')\n",
    "\n",
    "wikidf.head(10)"
   ]
  },
  {
   "cell_type": "code",
   "execution_count": 44,
   "id": "b023e621-d838-4904-b384-fb28ee3a73dd",
   "metadata": {},
   "outputs": [
    {
     "data": {
      "text/plain": [
       "Overall Rating\n",
       "Positive    101\n",
       "Negative     42\n",
       "Name: count, dtype: int64"
      ]
     },
     "execution_count": 44,
     "metadata": {},
     "output_type": "execute_result"
    }
   ],
   "source": [
    "wikidf['Overall Rating'].value_counts()"
   ]
  },
  {
   "cell_type": "code",
   "execution_count": null,
   "id": "a12c46c8-d496-4fcf-8c56-d8e5829cc63f",
   "metadata": {},
   "outputs": [],
   "source": []
  }
 ],
 "metadata": {
  "kernelspec": {
   "display_name": "Python 3 (ipykernel)",
   "language": "python",
   "name": "python3"
  },
  "language_info": {
   "codemirror_mode": {
    "name": "ipython",
    "version": 3
   },
   "file_extension": ".py",
   "mimetype": "text/x-python",
   "name": "python",
   "nbconvert_exporter": "python",
   "pygments_lexer": "ipython3",
   "version": "3.11.3"
  }
 },
 "nbformat": 4,
 "nbformat_minor": 5
}
