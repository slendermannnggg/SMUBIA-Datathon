{
 "cells": [
  {
   "cell_type": "code",
   "execution_count": 73,
   "id": "18fa5a20-ab34-4002-a4c9-c3137f1390fb",
   "metadata": {},
   "outputs": [
    {
     "name": "stderr",
     "output_type": "stream",
     "text": [
      "[nltk_data] Downloading package stopwords to\n",
      "[nltk_data]     C:\\Users\\mani7\\AppData\\Roaming\\nltk_data...\n",
      "[nltk_data]   Package stopwords is already up-to-date!\n",
      "[nltk_data] Downloading package punkt to\n",
      "[nltk_data]     C:\\Users\\mani7\\AppData\\Roaming\\nltk_data...\n",
      "[nltk_data]   Package punkt is already up-to-date!\n",
      "[nltk_data] Downloading package wordnet to\n",
      "[nltk_data]     C:\\Users\\mani7\\AppData\\Roaming\\nltk_data...\n",
      "[nltk_data]   Package wordnet is already up-to-date!\n",
      "[nltk_data] Downloading package vader_lexicon to\n",
      "[nltk_data]     C:\\Users\\mani7\\AppData\\Roaming\\nltk_data...\n",
      "[nltk_data]   Package vader_lexicon is already up-to-date!\n"
     ]
    }
   ],
   "source": [
    "import pandas as pd\n",
    "import numpy as np\n",
    "import string as st\n",
    "import re\n",
    "from sklearn.feature_extraction.text import TfidfVectorizer\n",
    "from sklearn.preprocessing import OneHotEncoder\n",
    "\n",
    "import nltk\n",
    "from nltk.corpus import stopwords\n",
    "from nltk.tokenize import word_tokenize\n",
    "from nltk.stem import WordNetLemmatizer\n",
    "from nltk.util import ngrams\n",
    "from nltk.sentiment.vader import SentimentIntensityAnalyzer\n",
    "\n",
    "nltk.download('stopwords')\n",
    "nltk.download('punkt')\n",
    "nltk.download('wordnet')\n",
    "nltk.download('vader_lexicon')\n",
    "\n",
    "import matplotlib.pyplot as plt\n",
    "\n",
    "lemmatizer = WordNetLemmatizer()\n",
    "sent = SentimentIntensityAnalyzer() "
   ]
  },
  {
   "cell_type": "code",
   "execution_count": 74,
   "id": "98b2ae85-466e-487f-89c9-0e686c166793",
   "metadata": {},
   "outputs": [],
   "source": [
    "newsdf = pd.read_excel('C:/Users/mani7/Desktop/smu datathon/news_excerpts_parsed.xlsx')\n",
    "wikidf = pd.read_excel('C:/Users/mani7/Desktop/smu datathon/wikileaks_parsed.xlsx')"
   ]
  },
  {
   "cell_type": "code",
   "execution_count": 75,
   "id": "c899732a-fc42-4159-91a6-0cb5dd8f2e09",
   "metadata": {
    "scrolled": true
   },
   "outputs": [
    {
     "data": {
      "text/html": [
       "<div>\n",
       "<style scoped>\n",
       "    .dataframe tbody tr th:only-of-type {\n",
       "        vertical-align: middle;\n",
       "    }\n",
       "\n",
       "    .dataframe tbody tr th {\n",
       "        vertical-align: top;\n",
       "    }\n",
       "\n",
       "    .dataframe thead th {\n",
       "        text-align: right;\n",
       "    }\n",
       "</style>\n",
       "<table border=\"1\" class=\"dataframe\">\n",
       "  <thead>\n",
       "    <tr style=\"text-align: right;\">\n",
       "      <th></th>\n",
       "      <th>Link</th>\n",
       "      <th>Text</th>\n",
       "    </tr>\n",
       "  </thead>\n",
       "  <tbody>\n",
       "    <tr>\n",
       "      <th>0</th>\n",
       "      <td>https://edition.cnn.com/2023/09/29/business/st...</td>\n",
       "      <td>Starbucks violated federal labor law when it i...</td>\n",
       "    </tr>\n",
       "    <tr>\n",
       "      <th>1</th>\n",
       "      <td>https://www.channelnewsasia.com/singapore/su-w...</td>\n",
       "      <td>The first suspect to plead guilty in Singapore...</td>\n",
       "    </tr>\n",
       "    <tr>\n",
       "      <th>2</th>\n",
       "      <td>https://edition.cnn.com/2023/05/22/tech/meta-f...</td>\n",
       "      <td>Meta has been fined a record-breaking €1.2 bil...</td>\n",
       "    </tr>\n",
       "    <tr>\n",
       "      <th>3</th>\n",
       "      <td>https://www.channelnewsasia.com/singapore/bill...</td>\n",
       "      <td>SINGAPORE: A 45-year-old man linked to Singapo...</td>\n",
       "    </tr>\n",
       "    <tr>\n",
       "      <th>4</th>\n",
       "      <td>https://edition.cnn.com/2024/03/05/politics/li...</td>\n",
       "      <td>The Department of Education imposed a record $...</td>\n",
       "    </tr>\n",
       "    <tr>\n",
       "      <th>5</th>\n",
       "      <td>https://www.euronews.com/2024/02/23/judge-conv...</td>\n",
       "      <td>After twelve days of deliberation, a Vienna co...</td>\n",
       "    </tr>\n",
       "    <tr>\n",
       "      <th>6</th>\n",
       "      <td>https://edition.cnn.com/2022/07/21/economy/chi...</td>\n",
       "      <td>China’s cyberspace regulator fined Didi Global...</td>\n",
       "    </tr>\n",
       "    <tr>\n",
       "      <th>7</th>\n",
       "      <td>https://www.brusselstimes.com/justice-belgium/...</td>\n",
       "      <td>On Thursday, the Brussels Criminal Court’s pro...</td>\n",
       "    </tr>\n",
       "    <tr>\n",
       "      <th>8</th>\n",
       "      <td>https://www.expats.cz/czech-news/article/forme...</td>\n",
       "      <td>The Prague 3 District Court this morning sente...</td>\n",
       "    </tr>\n",
       "    <tr>\n",
       "      <th>9</th>\n",
       "      <td>https://www.thelocal.dk/20240311/british-trade...</td>\n",
       "      <td>Sanjay Shah, who was arrested in June 2022 in ...</td>\n",
       "    </tr>\n",
       "  </tbody>\n",
       "</table>\n",
       "</div>"
      ],
      "text/plain": [
       "                                                Link  \\\n",
       "0  https://edition.cnn.com/2023/09/29/business/st...   \n",
       "1  https://www.channelnewsasia.com/singapore/su-w...   \n",
       "2  https://edition.cnn.com/2023/05/22/tech/meta-f...   \n",
       "3  https://www.channelnewsasia.com/singapore/bill...   \n",
       "4  https://edition.cnn.com/2024/03/05/politics/li...   \n",
       "5  https://www.euronews.com/2024/02/23/judge-conv...   \n",
       "6  https://edition.cnn.com/2022/07/21/economy/chi...   \n",
       "7  https://www.brusselstimes.com/justice-belgium/...   \n",
       "8  https://www.expats.cz/czech-news/article/forme...   \n",
       "9  https://www.thelocal.dk/20240311/british-trade...   \n",
       "\n",
       "                                                Text  \n",
       "0  Starbucks violated federal labor law when it i...  \n",
       "1  The first suspect to plead guilty in Singapore...  \n",
       "2  Meta has been fined a record-breaking €1.2 bil...  \n",
       "3  SINGAPORE: A 45-year-old man linked to Singapo...  \n",
       "4  The Department of Education imposed a record $...  \n",
       "5  After twelve days of deliberation, a Vienna co...  \n",
       "6  China’s cyberspace regulator fined Didi Global...  \n",
       "7  On Thursday, the Brussels Criminal Court’s pro...  \n",
       "8  The Prague 3 District Court this morning sente...  \n",
       "9  Sanjay Shah, who was arrested in June 2022 in ...  "
      ]
     },
     "execution_count": 75,
     "metadata": {},
     "output_type": "execute_result"
    }
   ],
   "source": [
    "newsdf.head(10)"
   ]
  },
  {
   "cell_type": "code",
   "execution_count": 76,
   "id": "7f84e351-64f5-4108-93da-36bb0aa209ae",
   "metadata": {
    "scrolled": true
   },
   "outputs": [
    {
     "data": {
      "text/html": [
       "<div>\n",
       "<style scoped>\n",
       "    .dataframe tbody tr th:only-of-type {\n",
       "        vertical-align: middle;\n",
       "    }\n",
       "\n",
       "    .dataframe tbody tr th {\n",
       "        vertical-align: top;\n",
       "    }\n",
       "\n",
       "    .dataframe thead th {\n",
       "        text-align: right;\n",
       "    }\n",
       "</style>\n",
       "<table border=\"1\" class=\"dataframe\">\n",
       "  <thead>\n",
       "    <tr style=\"text-align: right;\">\n",
       "      <th></th>\n",
       "      <th>PDF Path</th>\n",
       "      <th>Text</th>\n",
       "    </tr>\n",
       "  </thead>\n",
       "  <tbody>\n",
       "    <tr>\n",
       "      <th>0</th>\n",
       "      <td>1.pdf</td>\n",
       "      <td>Pristina Airport – Possible administrative irr...</td>\n",
       "    </tr>\n",
       "    <tr>\n",
       "      <th>1</th>\n",
       "      <td>1.pdf</td>\n",
       "      <td>Investigative details\\n\\nIn his/her interviews...</td>\n",
       "    </tr>\n",
       "    <tr>\n",
       "      <th>2</th>\n",
       "      <td>10.pdf</td>\n",
       "      <td>\"An interoffice memorandum providing an “outst...</td>\n",
       "    </tr>\n",
       "    <tr>\n",
       "      <th>3</th>\n",
       "      <td>10.pdf</td>\n",
       "      <td>\"Allegation 2 &amp; 3:\\n\\n(Specifically, three of ...</td>\n",
       "    </tr>\n",
       "    <tr>\n",
       "      <th>4</th>\n",
       "      <td>10.pdf</td>\n",
       "      <td>\"When asked about this in interview, the Divis...</td>\n",
       "    </tr>\n",
       "    <tr>\n",
       "      <th>5</th>\n",
       "      <td>10.pdf</td>\n",
       "      <td>\"INVESTIGATION DETAILS\\n\\nThis part of the inv...</td>\n",
       "    </tr>\n",
       "    <tr>\n",
       "      <th>6</th>\n",
       "      <td>10.pdf</td>\n",
       "      <td>\"At paragraph 4 of the Cargo Apron Extension e...</td>\n",
       "    </tr>\n",
       "    <tr>\n",
       "      <th>7</th>\n",
       "      <td>10.pdf</td>\n",
       "      <td>\"Until the end of June 2002, responsibility fo...</td>\n",
       "    </tr>\n",
       "    <tr>\n",
       "      <th>8</th>\n",
       "      <td>10.pdf</td>\n",
       "      <td>\"METHODOLOGY\\n\\nThis investigation was conduct...</td>\n",
       "    </tr>\n",
       "    <tr>\n",
       "      <th>9</th>\n",
       "      <td>10.pdf</td>\n",
       "      <td>\"Allegation 4:\\n\\n(Specifically, that the Vend...</td>\n",
       "    </tr>\n",
       "  </tbody>\n",
       "</table>\n",
       "</div>"
      ],
      "text/plain": [
       "  PDF Path                                               Text\n",
       "0    1.pdf  Pristina Airport – Possible administrative irr...\n",
       "1    1.pdf  Investigative details\\n\\nIn his/her interviews...\n",
       "2   10.pdf  \"An interoffice memorandum providing an “outst...\n",
       "3   10.pdf  \"Allegation 2 & 3:\\n\\n(Specifically, three of ...\n",
       "4   10.pdf  \"When asked about this in interview, the Divis...\n",
       "5   10.pdf  \"INVESTIGATION DETAILS\\n\\nThis part of the inv...\n",
       "6   10.pdf  \"At paragraph 4 of the Cargo Apron Extension e...\n",
       "7   10.pdf  \"Until the end of June 2002, responsibility fo...\n",
       "8   10.pdf  \"METHODOLOGY\\n\\nThis investigation was conduct...\n",
       "9   10.pdf  \"Allegation 4:\\n\\n(Specifically, that the Vend..."
      ]
     },
     "execution_count": 76,
     "metadata": {},
     "output_type": "execute_result"
    }
   ],
   "source": [
    "wikidf.head(10)"
   ]
  },
  {
   "cell_type": "code",
   "execution_count": 77,
   "id": "c90d29e8-2c32-4240-ad15-6b89841d1589",
   "metadata": {},
   "outputs": [
    {
     "data": {
      "text/plain": [
       "1509"
      ]
     },
     "execution_count": 77,
     "metadata": {},
     "output_type": "execute_result"
    }
   ],
   "source": [
    "len(newsdf)"
   ]
  },
  {
   "cell_type": "code",
   "execution_count": 78,
   "id": "b71220ff-575f-487f-a89f-6a9d44d0122d",
   "metadata": {},
   "outputs": [
    {
     "data": {
      "text/plain": [
       "143"
      ]
     },
     "execution_count": 78,
     "metadata": {},
     "output_type": "execute_result"
    }
   ],
   "source": [
    "len(wikidf)"
   ]
  },
  {
   "cell_type": "markdown",
   "id": "2c128c9a-c4c8-4803-860d-a826a2bfb864",
   "metadata": {},
   "source": [
    "### checking for empty cells in datasets"
   ]
  },
  {
   "cell_type": "code",
   "execution_count": 79,
   "id": "a6720628-c669-4d37-b004-c69631b98b04",
   "metadata": {},
   "outputs": [
    {
     "name": "stdout",
     "output_type": "stream",
     "text": [
      "Link    False\n",
      "Text    False\n",
      "dtype: bool\n"
     ]
    }
   ],
   "source": [
    "empty_columns = newsdf.isnull().all(axis=0)\n",
    "print(empty_columns)"
   ]
  },
  {
   "cell_type": "code",
   "execution_count": 80,
   "id": "2aab6ec8-dfa8-4f6d-846e-2272da61a373",
   "metadata": {},
   "outputs": [
    {
     "name": "stdout",
     "output_type": "stream",
     "text": [
      "PDF Path    False\n",
      "Text        False\n",
      "dtype: bool\n"
     ]
    }
   ],
   "source": [
    "empty_columnss = wikidf.isnull().all(axis=0)\n",
    "print(empty_columnss)"
   ]
  },
  {
   "cell_type": "markdown",
   "id": "35d17bd8-9819-4f07-9e8d-a5802bd8c686",
   "metadata": {},
   "source": [
    "### hence, both datasets have no empty cells in the both columns"
   ]
  },
  {
   "cell_type": "markdown",
   "id": "6856cc70-5135-4d9f-9cf3-8024a7bf0656",
   "metadata": {},
   "source": [
    "# pre-processing text in newsdf dataset"
   ]
  },
  {
   "cell_type": "code",
   "execution_count": 81,
   "id": "2ef79751-b855-44d2-9aaf-23bb99e044b4",
   "metadata": {},
   "outputs": [
    {
     "name": "stdout",
     "output_type": "stream",
     "text": [
      "Original text (Text) for the first row:\n",
      "\n",
      "Starbucks violated federal labor law when it increased wages and offered new perks and benefits only to non-union employees, a National Labor Relations Board judge found Thursday.\n",
      "\n",
      "The decision is the latest in a series of NLRB rulings finding that Starbucks has violated labor law in its efforts to stop unions from forming in its coffee shops.\n",
      "\n",
      "“The issue at the heart of this case is whether, under current Board law, [Starbucks] was entitled to explicitly reward employees,” for not participating in union activity, “while falsely telling its workers that the federal labor law forced it to take this action,” wrote administrative law judge Mara-Louise Anzalone. “It was not.”\n"
     ]
    }
   ],
   "source": [
    "print(\"Original text (Text) for the first row:\")\n",
    "print(\"\")\n",
    "print(newsdf['Text'].iloc[0])  "
   ]
  },
  {
   "cell_type": "code",
   "execution_count": 88,
   "id": "8aadbe1b-5eec-4ce1-a36e-09c36a26fa59",
   "metadata": {},
   "outputs": [],
   "source": [
    "def preprocess_text(text):\n",
    "    # Remove punctuation except for spaces\n",
    "    text = \"\".join([ch for ch in text if ch not in st.punctuation])\n",
    "    \n",
    "    # Tokenize and convert to lowercase\n",
    "    tokens = re.split(r'\\s+', text.lower())\n",
    "    \n",
    "    # Keep \"number + unit\" patterns together\n",
    "    combined_tokens = []\n",
    "    i = 0\n",
    "    while i < len(tokens):\n",
    "        # Check for \"number or currency + unit\"\n",
    "        if i + 1 < len(tokens) and re.match(r'^(€|\\$|£)?\\d+(\\.\\d+)?$', tokens[i]) and tokens[i + 1] in {\"million\", \"billion\", \"thousand\"}:\n",
    "            combined_tokens.append(f\"{tokens[i]} {tokens[i + 1]}\")\n",
    "            i += 2  # Skip the next token as it is already combined\n",
    "        else:\n",
    "            combined_tokens.append(tokens[i])\n",
    "            i += 1\n",
    "    \n",
    "    # Remove stopwords and lemmatize\n",
    "    custom_stopwords = set(stopwords.words('english')).union({'said', 'also', 'one', 'mr', 'per', 'u', '–', 'm'})\n",
    "    filtered_tokens = [word for word in combined_tokens if word not in custom_stopwords]\n",
    "    lemmatized_tokens = [lemmatizer.lemmatize(word) for word in filtered_tokens]\n",
    "    \n",
    "    return lemmatized_tokens"
   ]
  },
  {
   "cell_type": "code",
   "execution_count": 89,
   "id": "1fdedf81-6fbe-47cf-a757-e8e8fcd06518",
   "metadata": {},
   "outputs": [
    {
     "data": {
      "text/html": [
       "<div>\n",
       "<style scoped>\n",
       "    .dataframe tbody tr th:only-of-type {\n",
       "        vertical-align: middle;\n",
       "    }\n",
       "\n",
       "    .dataframe tbody tr th {\n",
       "        vertical-align: top;\n",
       "    }\n",
       "\n",
       "    .dataframe thead th {\n",
       "        text-align: right;\n",
       "    }\n",
       "</style>\n",
       "<table border=\"1\" class=\"dataframe\">\n",
       "  <thead>\n",
       "    <tr style=\"text-align: right;\">\n",
       "      <th></th>\n",
       "      <th>Link</th>\n",
       "      <th>Text</th>\n",
       "      <th>cleaned text</th>\n",
       "    </tr>\n",
       "  </thead>\n",
       "  <tbody>\n",
       "    <tr>\n",
       "      <th>0</th>\n",
       "      <td>https://edition.cnn.com/2023/09/29/business/st...</td>\n",
       "      <td>Starbucks violated federal labor law when it i...</td>\n",
       "      <td>[starbucks, violated, federal, labor, law, inc...</td>\n",
       "    </tr>\n",
       "    <tr>\n",
       "      <th>1</th>\n",
       "      <td>https://www.channelnewsasia.com/singapore/su-w...</td>\n",
       "      <td>The first suspect to plead guilty in Singapore...</td>\n",
       "      <td>[first, suspect, plead, guilty, singapore, lar...</td>\n",
       "    </tr>\n",
       "    <tr>\n",
       "      <th>2</th>\n",
       "      <td>https://edition.cnn.com/2023/05/22/tech/meta-f...</td>\n",
       "      <td>Meta has been fined a record-breaking €1.2 bil...</td>\n",
       "      <td>[meta, fined, recordbreaking, €12 billion, 13 ...</td>\n",
       "    </tr>\n",
       "    <tr>\n",
       "      <th>3</th>\n",
       "      <td>https://www.channelnewsasia.com/singapore/bill...</td>\n",
       "      <td>SINGAPORE: A 45-year-old man linked to Singapo...</td>\n",
       "      <td>[singapore, 45yearold, man, linked, singapore’...</td>\n",
       "    </tr>\n",
       "    <tr>\n",
       "      <th>4</th>\n",
       "      <td>https://edition.cnn.com/2024/03/05/politics/li...</td>\n",
       "      <td>The Department of Education imposed a record $...</td>\n",
       "      <td>[department, education, imposed, record, 14 mi...</td>\n",
       "    </tr>\n",
       "  </tbody>\n",
       "</table>\n",
       "</div>"
      ],
      "text/plain": [
       "                                                Link  \\\n",
       "0  https://edition.cnn.com/2023/09/29/business/st...   \n",
       "1  https://www.channelnewsasia.com/singapore/su-w...   \n",
       "2  https://edition.cnn.com/2023/05/22/tech/meta-f...   \n",
       "3  https://www.channelnewsasia.com/singapore/bill...   \n",
       "4  https://edition.cnn.com/2024/03/05/politics/li...   \n",
       "\n",
       "                                                Text  \\\n",
       "0  Starbucks violated federal labor law when it i...   \n",
       "1  The first suspect to plead guilty in Singapore...   \n",
       "2  Meta has been fined a record-breaking €1.2 bil...   \n",
       "3  SINGAPORE: A 45-year-old man linked to Singapo...   \n",
       "4  The Department of Education imposed a record $...   \n",
       "\n",
       "                                        cleaned text  \n",
       "0  [starbucks, violated, federal, labor, law, inc...  \n",
       "1  [first, suspect, plead, guilty, singapore, lar...  \n",
       "2  [meta, fined, recordbreaking, €12 billion, 13 ...  \n",
       "3  [singapore, 45yearold, man, linked, singapore’...  \n",
       "4  [department, education, imposed, record, 14 mi...  "
      ]
     },
     "execution_count": 89,
     "metadata": {},
     "output_type": "execute_result"
    }
   ],
   "source": [
    "newsdf['cleaned text'] = newsdf['Text'].apply(lambda x: preprocess_text(x))\n",
    "newsdf.head()"
   ]
  },
  {
   "cell_type": "markdown",
   "id": "3dda32fc-b226-4017-9525-bc528fbbe7fa",
   "metadata": {},
   "source": [
    "# checking for common words and phrases"
   ]
  },
  {
   "cell_type": "code",
   "execution_count": 90,
   "id": "251dda81-aaef-43ee-8dfb-68045a417bf9",
   "metadata": {},
   "outputs": [
    {
     "name": "stdout",
     "output_type": "stream",
     "text": [
      "Top 10 Unigrams:\n",
      "year: 590\n",
      "singapore: 531\n",
      "company: 442\n",
      "two: 355\n",
      "new: 344\n",
      "china: 318\n",
      "u: 316\n",
      "last: 282\n",
      "first: 277\n",
      "time: 273\n",
      "\n",
      "Top 10 Bigrams:\n",
      "last year: 115\n",
      "united state: 94\n",
      "prime minister: 78\n",
      "social medium: 65\n",
      "national university: 54\n",
      "hong kong: 52\n",
      "last week: 47\n",
      "year ago: 45\n",
      "north korea: 42\n",
      "south korea: 41\n",
      "\n",
      "Top 10 Trigrams:\n",
      "national university singapore: 20\n",
      "prime minister lee: 14\n",
      "national university hospital: 14\n",
      "social medium platform: 13\n",
      "president joe biden: 13\n",
      "minister lee hsien: 13\n",
      "lee hsien loong: 13\n",
      "university singapore nu: 13\n",
      "people familiar matter: 12\n",
      "united arab emirate: 11\n"
     ]
    }
   ],
   "source": [
    "from collections import Counter\n",
    "from itertools import chain\n",
    "\n",
    "# Combine all preprocessed tokens into a single list\n",
    "all_tokens = list(chain.from_iterable(newsdf['cleaned text']))\n",
    "\n",
    "# Count unigrams\n",
    "unigram_counts = Counter(all_tokens)\n",
    "\n",
    "# Extract bigrams\n",
    "bigrams = list(ngrams(all_tokens, 2))\n",
    "bigram_counts = Counter(bigrams)\n",
    "\n",
    "# Extract trigrams\n",
    "trigrams = list(ngrams(all_tokens, 3))\n",
    "trigram_counts = Counter(trigrams)\n",
    "\n",
    "# Display top 10 unigrams, bigrams, and trigrams\n",
    "print(\"Top 10 Unigrams:\")\n",
    "for word, count in unigram_counts.most_common(10):\n",
    "    print(f\"{word}: {count}\")\n",
    "\n",
    "print(\"\\nTop 10 Bigrams:\")\n",
    "for bigram, count in bigram_counts.most_common(10):\n",
    "    print(f\"{' '.join(bigram)}: {count}\")\n",
    "\n",
    "print(\"\\nTop 10 Trigrams:\")\n",
    "for trigram, count in trigram_counts.most_common(10):\n",
    "    print(f\"{' '.join(trigram)}: {count}\")"
   ]
  },
  {
   "cell_type": "markdown",
   "id": "c7e5b6f9-e438-47e9-881b-fdb2dcee4295",
   "metadata": {},
   "source": [
    "# sentimental analysis using vader"
   ]
  },
  {
   "cell_type": "markdown",
   "id": "13382133-4ea5-4756-8574-79bf82574f61",
   "metadata": {},
   "source": [
    "### identifying link domains"
   ]
  },
  {
   "cell_type": "code",
   "execution_count": 38,
   "id": "6585583d-e4be-403c-a98a-67fcc90dd8f7",
   "metadata": {},
   "outputs": [
    {
     "data": {
      "text/plain": [
       "Link\n",
       "https://cnalifestyle.channelnewsasia.com/dining/ilmiri-korean-fusion-cuisine-singapore-373046                           2\n",
       "https://edition.cnn.com/2023/09/29/business/starbucks-union-wages/index.html                                            1\n",
       "https://cnalifestyle.channelnewsasia.com/dining/simbian-chua-century-bakkwa-coffres-singapore-food-277991               1\n",
       "https://www.bbc.com/news/uk-66592354                                                                                    1\n",
       "https://www.bbc.com/news/world-asia-china-66636705                                                                      1\n",
       "                                                                                                                       ..\n",
       "https://cnalifestyle.channelnewsasia.com/dining/ingen-kyoto-ion-orchard-teahouse-hvala-382296                           1\n",
       "https://cnalifestyle.channelnewsasia.com/dining/three-little-coconut-cafe-punggol-376741                                1\n",
       "https://cnalifestyle.channelnewsasia.com/dining/20-michelin-bib-hawker-stalls-spend-cdc-vouchers-383631                 1\n",
       "https://www.channelnewsasia.com/singapore/man-stole-crabs-house-of-seafood-not-wearing-mask-jail-fine-2041776           1\n",
       "https://www.straitstimes.com/singapore/parliament-new-measures-to-guard-against-money-laundering-terrorist-financing    1\n",
       "Name: count, Length: 1508, dtype: int64"
      ]
     },
     "execution_count": 38,
     "metadata": {},
     "output_type": "execute_result"
    }
   ],
   "source": [
    "newsdf[\"Link\"].value_counts()"
   ]
  },
  {
   "cell_type": "code",
   "execution_count": 53,
   "id": "0a804242-bb13-4d0c-9bac-d267142eb9c2",
   "metadata": {
    "scrolled": true
   },
   "outputs": [
    {
     "data": {
      "text/html": [
       "<div>\n",
       "<style scoped>\n",
       "    .dataframe tbody tr th:only-of-type {\n",
       "        vertical-align: middle;\n",
       "    }\n",
       "\n",
       "    .dataframe tbody tr th {\n",
       "        vertical-align: top;\n",
       "    }\n",
       "\n",
       "    .dataframe thead th {\n",
       "        text-align: right;\n",
       "    }\n",
       "</style>\n",
       "<table border=\"1\" class=\"dataframe\">\n",
       "  <thead>\n",
       "    <tr style=\"text-align: right;\">\n",
       "      <th></th>\n",
       "      <th>Link</th>\n",
       "      <th>Text</th>\n",
       "      <th>Pos Score</th>\n",
       "      <th>Neg Score</th>\n",
       "      <th>Comp Score</th>\n",
       "      <th>Overall Rating</th>\n",
       "      <th>domain</th>\n",
       "    </tr>\n",
       "  </thead>\n",
       "  <tbody>\n",
       "    <tr>\n",
       "      <th>0</th>\n",
       "      <td>https://edition.cnn.com/2023/09/29/business/st...</td>\n",
       "      <td>Starbucks violated federal labor law when it i...</td>\n",
       "      <td>0.086</td>\n",
       "      <td>0.099</td>\n",
       "      <td>-0.3612</td>\n",
       "      <td>Negative</td>\n",
       "      <td>edition.cnn.com</td>\n",
       "    </tr>\n",
       "    <tr>\n",
       "      <th>1</th>\n",
       "      <td>https://www.channelnewsasia.com/singapore/su-w...</td>\n",
       "      <td>The first suspect to plead guilty in Singapore...</td>\n",
       "      <td>0.043</td>\n",
       "      <td>0.166</td>\n",
       "      <td>-0.9442</td>\n",
       "      <td>Negative</td>\n",
       "      <td>www.channelnewsasia.com</td>\n",
       "    </tr>\n",
       "    <tr>\n",
       "      <th>2</th>\n",
       "      <td>https://edition.cnn.com/2023/05/22/tech/meta-f...</td>\n",
       "      <td>Meta has been fined a record-breaking €1.2 bil...</td>\n",
       "      <td>0.063</td>\n",
       "      <td>0.042</td>\n",
       "      <td>0.2263</td>\n",
       "      <td>Negative</td>\n",
       "      <td>edition.cnn.com</td>\n",
       "    </tr>\n",
       "    <tr>\n",
       "      <th>3</th>\n",
       "      <td>https://www.channelnewsasia.com/singapore/bill...</td>\n",
       "      <td>SINGAPORE: A 45-year-old man linked to Singapo...</td>\n",
       "      <td>0.091</td>\n",
       "      <td>0.148</td>\n",
       "      <td>-0.7650</td>\n",
       "      <td>Negative</td>\n",
       "      <td>www.channelnewsasia.com</td>\n",
       "    </tr>\n",
       "    <tr>\n",
       "      <th>4</th>\n",
       "      <td>https://edition.cnn.com/2024/03/05/politics/li...</td>\n",
       "      <td>The Department of Education imposed a record $...</td>\n",
       "      <td>0.178</td>\n",
       "      <td>0.178</td>\n",
       "      <td>-0.4404</td>\n",
       "      <td>Negative</td>\n",
       "      <td>edition.cnn.com</td>\n",
       "    </tr>\n",
       "  </tbody>\n",
       "</table>\n",
       "</div>"
      ],
      "text/plain": [
       "                                                Link  \\\n",
       "0  https://edition.cnn.com/2023/09/29/business/st...   \n",
       "1  https://www.channelnewsasia.com/singapore/su-w...   \n",
       "2  https://edition.cnn.com/2023/05/22/tech/meta-f...   \n",
       "3  https://www.channelnewsasia.com/singapore/bill...   \n",
       "4  https://edition.cnn.com/2024/03/05/politics/li...   \n",
       "\n",
       "                                                Text  Pos Score  Neg Score  \\\n",
       "0  Starbucks violated federal labor law when it i...      0.086      0.099   \n",
       "1  The first suspect to plead guilty in Singapore...      0.043      0.166   \n",
       "2  Meta has been fined a record-breaking €1.2 bil...      0.063      0.042   \n",
       "3  SINGAPORE: A 45-year-old man linked to Singapo...      0.091      0.148   \n",
       "4  The Department of Education imposed a record $...      0.178      0.178   \n",
       "\n",
       "   Comp Score Overall Rating                   domain  \n",
       "0     -0.3612       Negative          edition.cnn.com  \n",
       "1     -0.9442       Negative  www.channelnewsasia.com  \n",
       "2      0.2263       Negative          edition.cnn.com  \n",
       "3     -0.7650       Negative  www.channelnewsasia.com  \n",
       "4     -0.4404       Negative          edition.cnn.com  "
      ]
     },
     "execution_count": 53,
     "metadata": {},
     "output_type": "execute_result"
    }
   ],
   "source": [
    "from urllib.parse import urlparse\n",
    "\n",
    "newsdf['domain'] = newsdf['Link'].apply(lambda x: urlparse(x).netloc)\n",
    "\n",
    "newsdf.head()"
   ]
  },
  {
   "cell_type": "code",
   "execution_count": 54,
   "id": "1fb2ed09-57d1-4976-8ee2-f20ef3379bf9",
   "metadata": {},
   "outputs": [
    {
     "data": {
      "text/plain": [
       "array(['edition.cnn.com', 'www.channelnewsasia.com', 'www.euronews.com',\n",
       "       'www.brusselstimes.com', 'www.expats.cz', 'www.thelocal.dk',\n",
       "       'news.postimees.ee', 'yle.fi', 'icelandmonitor.mbl.is',\n",
       "       'www.ndtv.com', 'www.straitstimes.com', 'www.reuters.com',\n",
       "       'www.cbsnews.com', 'www.cnbc.com', 'www.nasdaq.com',\n",
       "       'www.businesstimes.com.sg', 'apnews.com', 'www.ctvnews.ca',\n",
       "       'www.hrw.org', 'www.bbc.com', 'uniglobalunion.org',\n",
       "       'www.koreatimes.co.kr', 'in-cyprus.philenews.com',\n",
       "       'au.news.yahoo.com', 'www.inqld.com.au', 'www.independent.co.ug',\n",
       "       'web.archive.org', 'reliefweb.int', 'www.theguardian.com',\n",
       "       'www.newsweek.com', 'www.africanews.com', 'www.dw.com',\n",
       "       'www.thenation.com', 'www.nytimes.com', 'www.nbcnews.com',\n",
       "       'www.sundaytimes.lk', 'www.aljazeera.com', 'www.irishtimes.com',\n",
       "       'www.washingtonpost.com', 'www.independent.co.uk',\n",
       "       'cnalifestyle.channelnewsasia.com', 'money.cnn.com',\n",
       "       'straitstimes.com', 'cnaluxury.channelnewsasia.com',\n",
       "       'www.singhealth.com.sg', 'www.nuhsplus.edu.sg',\n",
       "       'www.nationalgeographic.com', 'www.nationalgeographic.co.uk',\n",
       "       'www.todayonline.com', 'time.com', 'www.scmp.com',\n",
       "       'nuhsplus.edu.sg', 'www.foxnews.com', 'www.taipeitimes.com',\n",
       "       'gulfnews.com'], dtype=object)"
      ]
     },
     "execution_count": 54,
     "metadata": {},
     "output_type": "execute_result"
    }
   ],
   "source": [
    "newsdf['domain'].unique()"
   ]
  },
  {
   "cell_type": "code",
   "execution_count": 58,
   "id": "f9ab570c-c9c3-46d1-bf26-fd2f022d9389",
   "metadata": {},
   "outputs": [
    {
     "data": {
      "text/html": [
       "<div>\n",
       "<style scoped>\n",
       "    .dataframe tbody tr th:only-of-type {\n",
       "        vertical-align: middle;\n",
       "    }\n",
       "\n",
       "    .dataframe tbody tr th {\n",
       "        vertical-align: top;\n",
       "    }\n",
       "\n",
       "    .dataframe thead th {\n",
       "        text-align: right;\n",
       "    }\n",
       "</style>\n",
       "<table border=\"1\" class=\"dataframe\">\n",
       "  <thead>\n",
       "    <tr style=\"text-align: right;\">\n",
       "      <th></th>\n",
       "      <th>Link</th>\n",
       "      <th>Text</th>\n",
       "      <th>Pos Score</th>\n",
       "      <th>Neg Score</th>\n",
       "      <th>Comp Score</th>\n",
       "      <th>Overall Rating</th>\n",
       "      <th>domain</th>\n",
       "      <th>main_domain</th>\n",
       "    </tr>\n",
       "  </thead>\n",
       "  <tbody>\n",
       "    <tr>\n",
       "      <th>0</th>\n",
       "      <td>https://edition.cnn.com/2023/09/29/business/st...</td>\n",
       "      <td>Starbucks violated federal labor law when it i...</td>\n",
       "      <td>0.086</td>\n",
       "      <td>0.099</td>\n",
       "      <td>-0.3612</td>\n",
       "      <td>Negative</td>\n",
       "      <td>edition.cnn.com</td>\n",
       "      <td>cnn.com</td>\n",
       "    </tr>\n",
       "    <tr>\n",
       "      <th>1</th>\n",
       "      <td>https://www.channelnewsasia.com/singapore/su-w...</td>\n",
       "      <td>The first suspect to plead guilty in Singapore...</td>\n",
       "      <td>0.043</td>\n",
       "      <td>0.166</td>\n",
       "      <td>-0.9442</td>\n",
       "      <td>Negative</td>\n",
       "      <td>www.channelnewsasia.com</td>\n",
       "      <td>channelnewsasia.com</td>\n",
       "    </tr>\n",
       "    <tr>\n",
       "      <th>2</th>\n",
       "      <td>https://edition.cnn.com/2023/05/22/tech/meta-f...</td>\n",
       "      <td>Meta has been fined a record-breaking €1.2 bil...</td>\n",
       "      <td>0.063</td>\n",
       "      <td>0.042</td>\n",
       "      <td>0.2263</td>\n",
       "      <td>Negative</td>\n",
       "      <td>edition.cnn.com</td>\n",
       "      <td>cnn.com</td>\n",
       "    </tr>\n",
       "    <tr>\n",
       "      <th>3</th>\n",
       "      <td>https://www.channelnewsasia.com/singapore/bill...</td>\n",
       "      <td>SINGAPORE: A 45-year-old man linked to Singapo...</td>\n",
       "      <td>0.091</td>\n",
       "      <td>0.148</td>\n",
       "      <td>-0.7650</td>\n",
       "      <td>Negative</td>\n",
       "      <td>www.channelnewsasia.com</td>\n",
       "      <td>channelnewsasia.com</td>\n",
       "    </tr>\n",
       "    <tr>\n",
       "      <th>4</th>\n",
       "      <td>https://edition.cnn.com/2024/03/05/politics/li...</td>\n",
       "      <td>The Department of Education imposed a record $...</td>\n",
       "      <td>0.178</td>\n",
       "      <td>0.178</td>\n",
       "      <td>-0.4404</td>\n",
       "      <td>Negative</td>\n",
       "      <td>edition.cnn.com</td>\n",
       "      <td>cnn.com</td>\n",
       "    </tr>\n",
       "  </tbody>\n",
       "</table>\n",
       "</div>"
      ],
      "text/plain": [
       "                                                Link  \\\n",
       "0  https://edition.cnn.com/2023/09/29/business/st...   \n",
       "1  https://www.channelnewsasia.com/singapore/su-w...   \n",
       "2  https://edition.cnn.com/2023/05/22/tech/meta-f...   \n",
       "3  https://www.channelnewsasia.com/singapore/bill...   \n",
       "4  https://edition.cnn.com/2024/03/05/politics/li...   \n",
       "\n",
       "                                                Text  Pos Score  Neg Score  \\\n",
       "0  Starbucks violated federal labor law when it i...      0.086      0.099   \n",
       "1  The first suspect to plead guilty in Singapore...      0.043      0.166   \n",
       "2  Meta has been fined a record-breaking €1.2 bil...      0.063      0.042   \n",
       "3  SINGAPORE: A 45-year-old man linked to Singapo...      0.091      0.148   \n",
       "4  The Department of Education imposed a record $...      0.178      0.178   \n",
       "\n",
       "   Comp Score Overall Rating                   domain          main_domain  \n",
       "0     -0.3612       Negative          edition.cnn.com              cnn.com  \n",
       "1     -0.9442       Negative  www.channelnewsasia.com  channelnewsasia.com  \n",
       "2      0.2263       Negative          edition.cnn.com              cnn.com  \n",
       "3     -0.7650       Negative  www.channelnewsasia.com  channelnewsasia.com  \n",
       "4     -0.4404       Negative          edition.cnn.com              cnn.com  "
      ]
     },
     "execution_count": 58,
     "metadata": {},
     "output_type": "execute_result"
    }
   ],
   "source": [
    "import tldextract\n",
    "\n",
    "newsdf['main_domain'] = newsdf['Link'].apply(lambda x: tldextract.extract(x).registered_domain)\n",
    "\n",
    "newsdf.head()"
   ]
  },
  {
   "cell_type": "code",
   "execution_count": 59,
   "id": "a5fb6127-2835-4388-9824-e0417025bce3",
   "metadata": {},
   "outputs": [
    {
     "data": {
      "text/plain": [
       "array(['cnn.com', 'channelnewsasia.com', 'euronews.com',\n",
       "       'brusselstimes.com', 'expats.cz', 'thelocal.dk', 'postimees.ee',\n",
       "       'yle.fi', 'mbl.is', 'ndtv.com', 'straitstimes.com', 'reuters.com',\n",
       "       'cbsnews.com', 'cnbc.com', 'nasdaq.com', 'businesstimes.com.sg',\n",
       "       'apnews.com', 'ctvnews.ca', 'hrw.org', 'bbc.com',\n",
       "       'uniglobalunion.org', 'koreatimes.co.kr', 'philenews.com',\n",
       "       'yahoo.com', 'inqld.com.au', 'independent.co.ug', 'archive.org',\n",
       "       'reliefweb.int', 'theguardian.com', 'newsweek.com',\n",
       "       'africanews.com', 'dw.com', 'thenation.com', 'nytimes.com',\n",
       "       'nbcnews.com', 'sundaytimes.lk', 'aljazeera.com', 'irishtimes.com',\n",
       "       'washingtonpost.com', 'independent.co.uk', 'singhealth.com.sg',\n",
       "       'nuhsplus.edu.sg', 'nationalgeographic.com',\n",
       "       'nationalgeographic.co.uk', 'todayonline.com', 'time.com',\n",
       "       'scmp.com', 'foxnews.com', 'taipeitimes.com', 'gulfnews.com'],\n",
       "      dtype=object)"
      ]
     },
     "execution_count": 59,
     "metadata": {},
     "output_type": "execute_result"
    }
   ],
   "source": [
    "newsdf['main_domain'].unique()"
   ]
  },
  {
   "cell_type": "code",
   "execution_count": 56,
   "id": "38c9e21a-c9d0-4887-9dea-de5265fff242",
   "metadata": {},
   "outputs": [
    {
     "name": "stderr",
     "output_type": "stream",
     "text": [
      "C:\\Users\\mani7\\AppData\\Local\\Temp\\ipykernel_24928\\3664487475.py:1: FutureWarning: Series.__getitem__ treating keys as positions is deprecated. In a future version, integer keys will always be treated as labels (consistent with DataFrame behavior). To access a value by position, use `ser.iloc[pos]`\n",
      "  newsdf.iloc[0][1]\n"
     ]
    },
    {
     "data": {
      "text/plain": [
       "'Starbucks violated federal labor law when it increased wages and offered new perks and benefits only to non-union employees, a National Labor Relations Board judge found Thursday.\\n\\nThe decision is the latest in a series of NLRB rulings finding that Starbucks has violated labor law in its efforts to stop unions from forming in its coffee shops.\\n\\n“The issue at the heart of this case is whether, under current Board law, [Starbucks] was entitled to explicitly reward employees,” for not participating in union activity, “while falsely telling its workers that the federal labor law forced it to take this action,” wrote administrative law judge Mara-Louise Anzalone. “It was not.”'"
      ]
     },
     "execution_count": 56,
     "metadata": {},
     "output_type": "execute_result"
    }
   ],
   "source": [
    "newsdf.iloc[0][1]"
   ]
  },
  {
   "cell_type": "code",
   "execution_count": 25,
   "id": "25eef6d2-da83-4bca-a5fa-b4b3302db309",
   "metadata": {},
   "outputs": [
    {
     "name": "stderr",
     "output_type": "stream",
     "text": [
      "C:\\Users\\mani7\\AppData\\Local\\Temp\\ipykernel_24928\\2743137706.py:1: FutureWarning: Series.__getitem__ treating keys as positions is deprecated. In a future version, integer keys will always be treated as labels (consistent with DataFrame behavior). To access a value by position, use `ser.iloc[pos]`\n",
      "  sent.polarity_scores(newsdf.iloc[0][1])\n"
     ]
    },
    {
     "data": {
      "text/plain": [
       "{'neg': 0.099, 'neu': 0.815, 'pos': 0.086, 'compound': -0.3612}"
      ]
     },
     "execution_count": 25,
     "metadata": {},
     "output_type": "execute_result"
    }
   ],
   "source": [
    "sent.polarity_scores(newsdf.iloc[0][1])"
   ]
  },
  {
   "cell_type": "code",
   "execution_count": 26,
   "id": "47fff6f6-42c2-496a-82a2-a0dd05b653da",
   "metadata": {},
   "outputs": [
    {
     "name": "stderr",
     "output_type": "stream",
     "text": [
      "C:\\Users\\mani7\\AppData\\Local\\Temp\\ipykernel_24928\\3520193180.py:1: FutureWarning: Series.__getitem__ treating keys as positions is deprecated. In a future version, integer keys will always be treated as labels (consistent with DataFrame behavior). To access a value by position, use `ser.iloc[pos]`\n",
      "  senti_rating = sent.polarity_scores(newsdf.iloc[0][1])\n"
     ]
    }
   ],
   "source": [
    "senti_rating = sent.polarity_scores(newsdf.iloc[0][1])"
   ]
  },
  {
   "cell_type": "code",
   "execution_count": 27,
   "id": "bc33a5f2-67f1-47a9-891b-b8a3b81cbf8b",
   "metadata": {},
   "outputs": [
    {
     "data": {
      "text/plain": [
       "dict"
      ]
     },
     "execution_count": 27,
     "metadata": {},
     "output_type": "execute_result"
    }
   ],
   "source": [
    "type(senti_rating)"
   ]
  },
  {
   "cell_type": "code",
   "execution_count": 28,
   "id": "46697d9b-c7a2-4d00-8dac-265b6d004be8",
   "metadata": {},
   "outputs": [
    {
     "data": {
      "text/plain": [
       "-0.3612"
      ]
     },
     "execution_count": 28,
     "metadata": {},
     "output_type": "execute_result"
    }
   ],
   "source": [
    "senti_rating['compound']"
   ]
  },
  {
   "cell_type": "markdown",
   "id": "4fae4c4f-36a3-4cb6-b86d-5962bf22e734",
   "metadata": {},
   "source": [
    "### assigning scores"
   ]
  },
  {
   "cell_type": "code",
   "execution_count": 44,
   "id": "908e194e-ef51-4eea-97af-c31b372a278d",
   "metadata": {},
   "outputs": [
    {
     "name": "stderr",
     "output_type": "stream",
     "text": [
      "C:\\Users\\mani7\\AppData\\Local\\Temp\\ipykernel_24928\\2054679426.py:5: FutureWarning: Series.__getitem__ treating keys as positions is deprecated. In a future version, integer keys will always be treated as labels (consistent with DataFrame behavior). To access a value by position, use `ser.iloc[pos]`\n",
      "  score = sent.polarity_scores(newsdf.iloc[i][1])\n"
     ]
    }
   ],
   "source": [
    "score_com = []\n",
    "score_pos = []\n",
    "score_neg = []\n",
    "for i in range(0, newsdf.shape[0]):\n",
    "    score = sent.polarity_scores(newsdf.iloc[i][1])\n",
    "    score1 = score['compound']\n",
    "    score_com.append(score1)\n",
    "\n",
    "    score2 = score['pos']\n",
    "    score_pos.append(score2)\n",
    "\n",
    "    score3 = score['neg']\n",
    "    score_neg.append(score3)"
   ]
  },
  {
   "cell_type": "code",
   "execution_count": 45,
   "id": "547d1779-0fb7-4abc-a870-fbd7377f23ff",
   "metadata": {},
   "outputs": [],
   "source": [
    "newsdf[\"Pos Score\"] = score_pos\n",
    "newsdf[\"Neg Score\"] = score_neg\n",
    "newsdf[\"Comp Score\"] = score_com"
   ]
  },
  {
   "cell_type": "code",
   "execution_count": 46,
   "id": "04c9f084-8048-4d70-9eb1-7f95d808344d",
   "metadata": {},
   "outputs": [
    {
     "data": {
      "text/plain": [
       "(1509, 5)"
      ]
     },
     "execution_count": 46,
     "metadata": {},
     "output_type": "execute_result"
    }
   ],
   "source": [
    "newsdf.shape"
   ]
  },
  {
   "cell_type": "code",
   "execution_count": 47,
   "id": "b9a45157-a0f4-4ea1-8787-b661f9647143",
   "metadata": {},
   "outputs": [
    {
     "data": {
      "text/html": [
       "<div>\n",
       "<style scoped>\n",
       "    .dataframe tbody tr th:only-of-type {\n",
       "        vertical-align: middle;\n",
       "    }\n",
       "\n",
       "    .dataframe tbody tr th {\n",
       "        vertical-align: top;\n",
       "    }\n",
       "\n",
       "    .dataframe thead th {\n",
       "        text-align: right;\n",
       "    }\n",
       "</style>\n",
       "<table border=\"1\" class=\"dataframe\">\n",
       "  <thead>\n",
       "    <tr style=\"text-align: right;\">\n",
       "      <th></th>\n",
       "      <th>Link</th>\n",
       "      <th>Text</th>\n",
       "      <th>Pos Score</th>\n",
       "      <th>Neg Score</th>\n",
       "      <th>Comp Score</th>\n",
       "    </tr>\n",
       "  </thead>\n",
       "  <tbody>\n",
       "    <tr>\n",
       "      <th>0</th>\n",
       "      <td>https://edition.cnn.com/2023/09/29/business/st...</td>\n",
       "      <td>Starbucks violated federal labor law when it i...</td>\n",
       "      <td>0.086</td>\n",
       "      <td>0.099</td>\n",
       "      <td>-0.3612</td>\n",
       "    </tr>\n",
       "    <tr>\n",
       "      <th>1</th>\n",
       "      <td>https://www.channelnewsasia.com/singapore/su-w...</td>\n",
       "      <td>The first suspect to plead guilty in Singapore...</td>\n",
       "      <td>0.043</td>\n",
       "      <td>0.166</td>\n",
       "      <td>-0.9442</td>\n",
       "    </tr>\n",
       "    <tr>\n",
       "      <th>2</th>\n",
       "      <td>https://edition.cnn.com/2023/05/22/tech/meta-f...</td>\n",
       "      <td>Meta has been fined a record-breaking €1.2 bil...</td>\n",
       "      <td>0.063</td>\n",
       "      <td>0.042</td>\n",
       "      <td>0.2263</td>\n",
       "    </tr>\n",
       "    <tr>\n",
       "      <th>3</th>\n",
       "      <td>https://www.channelnewsasia.com/singapore/bill...</td>\n",
       "      <td>SINGAPORE: A 45-year-old man linked to Singapo...</td>\n",
       "      <td>0.091</td>\n",
       "      <td>0.148</td>\n",
       "      <td>-0.7650</td>\n",
       "    </tr>\n",
       "    <tr>\n",
       "      <th>4</th>\n",
       "      <td>https://edition.cnn.com/2024/03/05/politics/li...</td>\n",
       "      <td>The Department of Education imposed a record $...</td>\n",
       "      <td>0.178</td>\n",
       "      <td>0.178</td>\n",
       "      <td>-0.4404</td>\n",
       "    </tr>\n",
       "  </tbody>\n",
       "</table>\n",
       "</div>"
      ],
      "text/plain": [
       "                                                Link  \\\n",
       "0  https://edition.cnn.com/2023/09/29/business/st...   \n",
       "1  https://www.channelnewsasia.com/singapore/su-w...   \n",
       "2  https://edition.cnn.com/2023/05/22/tech/meta-f...   \n",
       "3  https://www.channelnewsasia.com/singapore/bill...   \n",
       "4  https://edition.cnn.com/2024/03/05/politics/li...   \n",
       "\n",
       "                                                Text  Pos Score  Neg Score  \\\n",
       "0  Starbucks violated federal labor law when it i...      0.086      0.099   \n",
       "1  The first suspect to plead guilty in Singapore...      0.043      0.166   \n",
       "2  Meta has been fined a record-breaking €1.2 bil...      0.063      0.042   \n",
       "3  SINGAPORE: A 45-year-old man linked to Singapo...      0.091      0.148   \n",
       "4  The Department of Education imposed a record $...      0.178      0.178   \n",
       "\n",
       "   Comp Score  \n",
       "0     -0.3612  \n",
       "1     -0.9442  \n",
       "2      0.2263  \n",
       "3     -0.7650  \n",
       "4     -0.4404  "
      ]
     },
     "execution_count": 47,
     "metadata": {},
     "output_type": "execute_result"
    }
   ],
   "source": [
    "newsdf.head()"
   ]
  },
  {
   "cell_type": "code",
   "execution_count": 48,
   "id": "30591c07-cc33-4d54-a44e-e2f015b280ad",
   "metadata": {},
   "outputs": [
    {
     "data": {
      "text/plain": [
       "0.14752001325381045"
      ]
     },
     "execution_count": 48,
     "metadata": {},
     "output_type": "execute_result"
    }
   ],
   "source": [
    "newsdf[\"Comp Score\"].mean()"
   ]
  },
  {
   "cell_type": "code",
   "execution_count": 49,
   "id": "6eccdeb1-984b-4354-b30e-106871359237",
   "metadata": {},
   "outputs": [
    {
     "data": {
      "text/html": [
       "<div>\n",
       "<style scoped>\n",
       "    .dataframe tbody tr th:only-of-type {\n",
       "        vertical-align: middle;\n",
       "    }\n",
       "\n",
       "    .dataframe tbody tr th {\n",
       "        vertical-align: top;\n",
       "    }\n",
       "\n",
       "    .dataframe thead th {\n",
       "        text-align: right;\n",
       "    }\n",
       "</style>\n",
       "<table border=\"1\" class=\"dataframe\">\n",
       "  <thead>\n",
       "    <tr style=\"text-align: right;\">\n",
       "      <th></th>\n",
       "      <th>Link</th>\n",
       "      <th>Text</th>\n",
       "      <th>Pos Score</th>\n",
       "      <th>Neg Score</th>\n",
       "      <th>Comp Score</th>\n",
       "      <th>Overall Rating</th>\n",
       "    </tr>\n",
       "  </thead>\n",
       "  <tbody>\n",
       "    <tr>\n",
       "      <th>0</th>\n",
       "      <td>https://edition.cnn.com/2023/09/29/business/st...</td>\n",
       "      <td>Starbucks violated federal labor law when it i...</td>\n",
       "      <td>0.086</td>\n",
       "      <td>0.099</td>\n",
       "      <td>-0.3612</td>\n",
       "      <td>Negative</td>\n",
       "    </tr>\n",
       "    <tr>\n",
       "      <th>1</th>\n",
       "      <td>https://www.channelnewsasia.com/singapore/su-w...</td>\n",
       "      <td>The first suspect to plead guilty in Singapore...</td>\n",
       "      <td>0.043</td>\n",
       "      <td>0.166</td>\n",
       "      <td>-0.9442</td>\n",
       "      <td>Negative</td>\n",
       "    </tr>\n",
       "    <tr>\n",
       "      <th>2</th>\n",
       "      <td>https://edition.cnn.com/2023/05/22/tech/meta-f...</td>\n",
       "      <td>Meta has been fined a record-breaking €1.2 bil...</td>\n",
       "      <td>0.063</td>\n",
       "      <td>0.042</td>\n",
       "      <td>0.2263</td>\n",
       "      <td>Negative</td>\n",
       "    </tr>\n",
       "    <tr>\n",
       "      <th>3</th>\n",
       "      <td>https://www.channelnewsasia.com/singapore/bill...</td>\n",
       "      <td>SINGAPORE: A 45-year-old man linked to Singapo...</td>\n",
       "      <td>0.091</td>\n",
       "      <td>0.148</td>\n",
       "      <td>-0.7650</td>\n",
       "      <td>Negative</td>\n",
       "    </tr>\n",
       "    <tr>\n",
       "      <th>4</th>\n",
       "      <td>https://edition.cnn.com/2024/03/05/politics/li...</td>\n",
       "      <td>The Department of Education imposed a record $...</td>\n",
       "      <td>0.178</td>\n",
       "      <td>0.178</td>\n",
       "      <td>-0.4404</td>\n",
       "      <td>Negative</td>\n",
       "    </tr>\n",
       "    <tr>\n",
       "      <th>5</th>\n",
       "      <td>https://www.euronews.com/2024/02/23/judge-conv...</td>\n",
       "      <td>After twelve days of deliberation, a Vienna co...</td>\n",
       "      <td>0.090</td>\n",
       "      <td>0.083</td>\n",
       "      <td>-0.2960</td>\n",
       "      <td>Negative</td>\n",
       "    </tr>\n",
       "    <tr>\n",
       "      <th>6</th>\n",
       "      <td>https://edition.cnn.com/2022/07/21/economy/chi...</td>\n",
       "      <td>China’s cyberspace regulator fined Didi Global...</td>\n",
       "      <td>0.069</td>\n",
       "      <td>0.094</td>\n",
       "      <td>-0.5106</td>\n",
       "      <td>Negative</td>\n",
       "    </tr>\n",
       "    <tr>\n",
       "      <th>7</th>\n",
       "      <td>https://www.brusselstimes.com/justice-belgium/...</td>\n",
       "      <td>On Thursday, the Brussels Criminal Court’s pro...</td>\n",
       "      <td>0.083</td>\n",
       "      <td>0.109</td>\n",
       "      <td>-0.7269</td>\n",
       "      <td>Negative</td>\n",
       "    </tr>\n",
       "    <tr>\n",
       "      <th>8</th>\n",
       "      <td>https://www.expats.cz/czech-news/article/forme...</td>\n",
       "      <td>The Prague 3 District Court this morning sente...</td>\n",
       "      <td>0.066</td>\n",
       "      <td>0.181</td>\n",
       "      <td>-0.9345</td>\n",
       "      <td>Negative</td>\n",
       "    </tr>\n",
       "    <tr>\n",
       "      <th>9</th>\n",
       "      <td>https://www.thelocal.dk/20240311/british-trade...</td>\n",
       "      <td>Sanjay Shah, who was arrested in June 2022 in ...</td>\n",
       "      <td>0.067</td>\n",
       "      <td>0.127</td>\n",
       "      <td>-0.8809</td>\n",
       "      <td>Negative</td>\n",
       "    </tr>\n",
       "  </tbody>\n",
       "</table>\n",
       "</div>"
      ],
      "text/plain": [
       "                                                Link  \\\n",
       "0  https://edition.cnn.com/2023/09/29/business/st...   \n",
       "1  https://www.channelnewsasia.com/singapore/su-w...   \n",
       "2  https://edition.cnn.com/2023/05/22/tech/meta-f...   \n",
       "3  https://www.channelnewsasia.com/singapore/bill...   \n",
       "4  https://edition.cnn.com/2024/03/05/politics/li...   \n",
       "5  https://www.euronews.com/2024/02/23/judge-conv...   \n",
       "6  https://edition.cnn.com/2022/07/21/economy/chi...   \n",
       "7  https://www.brusselstimes.com/justice-belgium/...   \n",
       "8  https://www.expats.cz/czech-news/article/forme...   \n",
       "9  https://www.thelocal.dk/20240311/british-trade...   \n",
       "\n",
       "                                                Text  Pos Score  Neg Score  \\\n",
       "0  Starbucks violated federal labor law when it i...      0.086      0.099   \n",
       "1  The first suspect to plead guilty in Singapore...      0.043      0.166   \n",
       "2  Meta has been fined a record-breaking €1.2 bil...      0.063      0.042   \n",
       "3  SINGAPORE: A 45-year-old man linked to Singapo...      0.091      0.148   \n",
       "4  The Department of Education imposed a record $...      0.178      0.178   \n",
       "5  After twelve days of deliberation, a Vienna co...      0.090      0.083   \n",
       "6  China’s cyberspace regulator fined Didi Global...      0.069      0.094   \n",
       "7  On Thursday, the Brussels Criminal Court’s pro...      0.083      0.109   \n",
       "8  The Prague 3 District Court this morning sente...      0.066      0.181   \n",
       "9  Sanjay Shah, who was arrested in June 2022 in ...      0.067      0.127   \n",
       "\n",
       "   Comp Score Overall Rating  \n",
       "0     -0.3612       Negative  \n",
       "1     -0.9442       Negative  \n",
       "2      0.2263       Negative  \n",
       "3     -0.7650       Negative  \n",
       "4     -0.4404       Negative  \n",
       "5     -0.2960       Negative  \n",
       "6     -0.5106       Negative  \n",
       "7     -0.7269       Negative  \n",
       "8     -0.9345       Negative  \n",
       "9     -0.8809       Negative  "
      ]
     },
     "execution_count": 49,
     "metadata": {},
     "output_type": "execute_result"
    }
   ],
   "source": [
    "newsdf['Overall Rating'] = newsdf['Comp Score'].apply(lambda x: 'Positive' if x > 0.5 else 'Negative')\n",
    "\n",
    "newsdf.head(10)"
   ]
  },
  {
   "cell_type": "code",
   "execution_count": 50,
   "id": "66b36810-7a98-499a-ad03-3eb7a88a92e0",
   "metadata": {},
   "outputs": [
    {
     "data": {
      "text/plain": [
       "Overall Rating\n",
       "Negative    817\n",
       "Positive    692\n",
       "Name: count, dtype: int64"
      ]
     },
     "execution_count": 50,
     "metadata": {},
     "output_type": "execute_result"
    }
   ],
   "source": [
    "newsdf['Overall Rating'].value_counts()"
   ]
  },
  {
   "cell_type": "code",
   "execution_count": null,
   "id": "05c81640-ee69-4908-b9e7-68d769522785",
   "metadata": {},
   "outputs": [],
   "source": []
  }
 ],
 "metadata": {
  "kernelspec": {
   "display_name": "Python 3 (ipykernel)",
   "language": "python",
   "name": "python3"
  },
  "language_info": {
   "codemirror_mode": {
    "name": "ipython",
    "version": 3
   },
   "file_extension": ".py",
   "mimetype": "text/x-python",
   "name": "python",
   "nbconvert_exporter": "python",
   "pygments_lexer": "ipython3",
   "version": "3.11.7"
  }
 },
 "nbformat": 4,
 "nbformat_minor": 5
}
